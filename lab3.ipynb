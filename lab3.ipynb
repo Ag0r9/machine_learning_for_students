{
 "cells": [
  {
   "cell_type": "markdown",
   "metadata": {
    "id": "nTsodZyI1D9P"
   },
   "source": [
    "# Rozpoznawanie ręcznie pisanych cyfr za pomocą PyTorch"
   ]
  },
  {
   "cell_type": "code",
   "execution_count": 1,
   "metadata": {
    "collapsed": true,
    "id": "j3X5BSXp1D9S"
   },
   "outputs": [],
   "source": [
    "%matplotlib inline\n",
    "\n",
    "import matplotlib\n",
    "import numpy as np\n",
    "import matplotlib.pyplot as plt\n",
    "\n",
    "import torch\n",
    "import torch.nn as nn\n",
    "import torch.optim as optim\n",
    "import torch.utils.data as data"
   ]
  },
  {
   "cell_type": "markdown",
   "metadata": {
    "id": "TjJgZVwI1D9V"
   },
   "source": [
    "## Wczytanie i przygotowanie danych"
   ]
  },
  {
   "cell_type": "markdown",
   "metadata": {
    "id": "QmITEPJ21D9W"
   },
   "source": [
    "Pracę rozpoczniemy od pobrania zbioru MNIST, zawierającego 70 tyś. przykładów ręcznie pisanych cyfr 0-9 w formie obrazków 28x28 pikseli. Wykorzystamy w tym celu klase `MNIST` z modułu torchvision."
   ]
  },
  {
   "cell_type": "code",
   "execution_count": 2,
   "metadata": {
    "id": "KLU__j5K1D9X",
    "scrolled": true
   },
   "outputs": [],
   "source": [
    "from torchvision.datasets import MNIST\n",
    "\n",
    "target_directory = \"mnist\"\n",
    "\n",
    "mnist_train = MNIST(target_directory, train=True, download=True)\n",
    "mnist_test = MNIST(target_directory, train=False, download=True)"
   ]
  },
  {
   "cell_type": "markdown",
   "metadata": {
    "id": "p25EslkA1D9Z"
   },
   "source": [
    "Wczytaliśmy dwa zbiory danych, zbadajmy ich długość"
   ]
  },
  {
   "cell_type": "code",
   "execution_count": 3,
   "metadata": {
    "colab": {
     "base_uri": "https://localhost:8080/"
    },
    "id": "7lpUNG0p1D9Z",
    "outputId": "b8e53de7-9ed7-4ca6-9a08-c021f430982e"
   },
   "outputs": [
    {
     "data": {
      "text/plain": [
       "(60000, 10000)"
      ]
     },
     "execution_count": 3,
     "metadata": {},
     "output_type": "execute_result"
    }
   ],
   "source": [
    "len(mnist_train), len(mnist_test)"
   ]
  },
  {
   "cell_type": "markdown",
   "metadata": {
    "id": "U6ZYEJOp1D9a"
   },
   "source": [
    "Pojedynczy element `mnist_train` składa się z pary: obrazek oraz jego etykieta"
   ]
  },
  {
   "cell_type": "code",
   "execution_count": 4,
   "metadata": {
    "colab": {
     "base_uri": "https://localhost:8080/",
     "height": 45
    },
    "id": "hNPhNlmk1D9b",
    "outputId": "ae0fe818-b615-4c62-934f-0055ad34ad53"
   },
   "outputs": [
    {
     "data": {
      "image/png": "[encoded data removed]",
      "text/plain": [
       "<PIL.Image.Image image mode=L size=28x28 at 0x7F9073791890>"
      ]
     },
     "execution_count": 4,
     "metadata": {},
     "output_type": "execute_result"
    }
   ],
   "source": [
    "mnist_train[0][0]"
   ]
  },
  {
   "cell_type": "code",
   "execution_count": 5,
   "metadata": {
    "colab": {
     "base_uri": "https://localhost:8080/"
    },
    "id": "wNtzxOTJ1D9d",
    "outputId": "f241bebd-03a3-4eaa-8017-6e4fec5f9393"
   },
   "outputs": [
    {
     "data": {
      "text/plain": [
       "5"
      ]
     },
     "execution_count": 5,
     "metadata": {},
     "output_type": "execute_result"
    }
   ],
   "source": [
    "mnist_train[0][1]"
   ]
  },
  {
   "cell_type": "markdown",
   "metadata": {
    "id": "AaiSavon1D9e"
   },
   "source": [
    "Sprawdźmy rozmiar obrazka"
   ]
  },
  {
   "cell_type": "code",
   "execution_count": 6,
   "metadata": {
    "colab": {
     "base_uri": "https://localhost:8080/"
    },
    "id": "vf-Vribz1D9f",
    "outputId": "50c8c57e-c5af-4006-fc21-64afad465393"
   },
   "outputs": [
    {
     "data": {
      "text/plain": [
       "(28, 28)"
      ]
     },
     "execution_count": 6,
     "metadata": {},
     "output_type": "execute_result"
    }
   ],
   "source": [
    "mnist_train[0][0].size"
   ]
  },
  {
   "cell_type": "markdown",
   "metadata": {
    "id": "mbS8fcD91D9h"
   },
   "source": [
    "Niestety, tak wczytane obrazki są - no własnie - obrazkami, a nie macierzami liczb. Wczytamy je ponownie, ale tym razem zamieniając je od razu na dwuwymiarowe tensory (obiekty klasy `torch.Tensor`). Tensor to uogólnienie macierzy na więcej niż dwa wymiary (czyli wielowymiarowa tablica liczb)."
   ]
  },
  {
   "cell_type": "code",
   "execution_count": 7,
   "metadata": {
    "id": "6OcZYDZ01D9h"
   },
   "outputs": [],
   "source": [
    "import torchvision.transforms as transforms\n",
    "\n",
    "def flatten(inp):\n",
    "    return inp.reshape(-1)\n",
    "\n",
    "transform = transforms.Compose([transforms.ToTensor(), flatten])\n",
    "\n",
    "mnist_train = MNIST(target_directory, train=True, download=True, transform=transform)\n",
    "mnist_test = MNIST(target_directory, train=False, download=True, transform=transform)"
   ]
  },
  {
   "cell_type": "markdown",
   "metadata": {
    "id": "hxjkfWjh1D9i"
   },
   "source": [
    "Zbadajmy typ i rozmiar tensora reprezentującego pierwszy obiekt w zbiorze uczącym"
   ]
  },
  {
   "cell_type": "code",
   "execution_count": 8,
   "metadata": {
    "colab": {
     "base_uri": "https://localhost:8080/"
    },
    "id": "oCOIAtTh1D9i",
    "outputId": "65c87cfa-2107-4b40-87e8-549a1a38e8a9"
   },
   "outputs": [
    {
     "data": {
      "text/plain": [
       "(torch.Tensor, torch.Size([784]))"
      ]
     },
     "execution_count": 8,
     "metadata": {},
     "output_type": "execute_result"
    }
   ],
   "source": [
    "type(mnist_train[0][0]), mnist_train[0][0].shape"
   ]
  },
  {
   "cell_type": "markdown",
   "metadata": {
    "id": "d4sJ3Ktx1D9j"
   },
   "source": [
    "Podzielimy zbiór uczący na dwie części: faktyczny zbiór uczący o rozmiarze $80\\%\\cdot 60000=48000$ i zbiór walidujący o rozmiarze $20\\%\\cdot 60000=12000$"
   ]
  },
  {
   "cell_type": "code",
   "execution_count": 9,
   "metadata": {
    "colab": {
     "base_uri": "https://localhost:8080/"
    },
    "id": "7EQCWlfG1D9k",
    "outputId": "69c615ce-b7f1-4f00-b10c-7d30164f261f"
   },
   "outputs": [
    {
     "data": {
      "text/plain": [
       "(48000, 12000)"
      ]
     },
     "execution_count": 9,
     "metadata": {},
     "output_type": "execute_result"
    }
   ],
   "source": [
    "mnist_train, mnist_validation = data.random_split(mnist_train, (48000, 12000))\n",
    "len(mnist_train), len(mnist_validation)"
   ]
  },
  {
   "cell_type": "markdown",
   "metadata": {
    "id": "pqlfSnvc1D9k"
   },
   "source": [
    "## Regresja logistyczna"
   ]
  },
  {
   "cell_type": "markdown",
   "metadata": {
    "id": "_qwDHsbV1D9l"
   },
   "source": [
    "PyTorch opiera się na modułach (obiektach klasy `torch.nn.Module`), które są komponowane w graf obliczeń. Każdy z modułów może wykorzystywać parametry (obiekty klasy `torch.nn.Parameter`), dla których mogą być automatycznie liczone gradienty i które (potencjalnie) podlegają optymalizacji.\n",
    "\n",
    "Rozpoczynamy od skonstruowania pojedynczej warstwy liniowej - tj. warstwy implementującej operację $\\hat{y} = Wx + b$\n",
    "\n",
    "Stworzymy prosty model regresji logistycznej, uczony na surowych pikselach obrazków. Macierz wag  cech (tutaj: pikseli obrazu) będzie typu $p\\times k$ (tzn. $p$ wag dla każdej z $k$ klas). Model będzie obliczał logits, tzn. wyjście regresji logistycznej **przed** zastosowaniem funkcji softmax: każdy wiersz odpowiada jednemu przykładowi dla zadanego X, a każda kolumna jednej z klas. Gdyby każdy z wierszy unormować funkcją softmax, to w kolejnych wierszach byłyby prawdopodobieństwa, że obiekt należy do danej klasy."
   ]
  },
  {
   "cell_type": "code",
   "execution_count": 10,
   "metadata": {
    "id": "6ad3J5As1D9l"
   },
   "outputs": [],
   "source": [
    "p = 28*28 #obrazki mają rozmiar 28x28 pikseli\n",
    "k = 10 #jest 10 klas - cyfry 0..9\n",
    "\n",
    "model = nn.Linear(p, k)"
   ]
  },
  {
   "cell_type": "markdown",
   "metadata": {
    "id": "lM-wlMpf1D9n"
   },
   "source": [
    "Jako miarę do optymalizacji będziemy wykorzystywali entropię krzyżową (ang. *cross entropy*), a do optymalizacji wykorzystamy optymalizator *Adam*. Chcemy, żeby parametry `W` oraz `b` automatycznie się zoptyamlizowały w procesie uczenia. Wykorzystamy w tym celu klasę `torch.optim.Adam`, która implementuje pewne ulepszenie algorytmu Gradient Descent. Tworzymy obiekt `opt`, który będzie odpowiedzialny za optymalizację parametrów regresora, uzyskanych przez wywołanie `model.parameters()`"
   ]
  },
  {
   "cell_type": "code",
   "execution_count": 11,
   "metadata": {
    "collapsed": true,
    "id": "NjzxZHep1D9o"
   },
   "outputs": [],
   "source": [
    "cost = torch.nn.CrossEntropyLoss()\n",
    "opt = optim.Adam(model.parameters())"
   ]
  },
  {
   "cell_type": "markdown",
   "metadata": {
    "id": "496Qxm2B1D9p"
   },
   "source": [
    "Przygotowujemy funkcję pomocniczą do liczenia trafności klasyfikacji (ang. *accuracy*). W każdym wierszu `logits` wybieramy numer kolumny z największą wartością, porównujemy z wartością oczekiwaną i tak uzyskane wartości (0 lub 1) uśredniamy w celu uzyskania trafności klasyfikacji."
   ]
  },
  {
   "cell_type": "code",
   "execution_count": 12,
   "metadata": {
    "collapsed": true,
    "id": "5smEl4yv1D9q"
   },
   "outputs": [],
   "source": [
    "def compute_acc(logits, expected):\n",
    "    pred = logits.argmax(dim=1)\n",
    "    return (pred == expected).type(torch.float).mean()"
   ]
  },
  {
   "cell_type": "markdown",
   "metadata": {
    "collapsed": true,
    "id": "LUlU6EJX1D9q"
   },
   "source": [
    "## Uruchomienie obliczeń\n",
    "\n",
    "\n",
    "Zaimplementujemy uczenie mini-batch przez `n_epoch` epok. W ramach każdej z epok:\n",
    "1. Tworzymy pomocniczy obiekt `loader` klasy `DataLoader`, który dzieli zbiór `mnist_train` na paczki (ang. *batch*) rozmiaru `batch_size`, w których kolejność obiektów jest losowana.\n",
    "3. Zerujemy gradienty zapamiętane przez optymalizator (`opt.zero_grad()`)\n",
    "4. Uruchamiamy regresor, obliczamy błąd\n",
    "5. Obliczamy gradienty (`mse_value.backward()`)\n",
    "6. Modyfikujemy wagi aplikując poprawki wyznaczone przez obliczone gradienty (`opt.step()`)\n",
    "7. Zapamiętujemy wartość entropii krzyżowej. Wywołujemy metodę `detach()`, żeby zapamiętana wartość nie była powiązana ze swoimi gradientami.\n",
    "\n",
    "Po wykonaniu epoki uśredniamy zebrane wartości entropi i zapmiętujęmy tę wartość"
   ]
  },
  {
   "cell_type": "code",
   "execution_count": 13,
   "metadata": {
    "collapsed": true,
    "id": "swPY1GGn1D9r"
   },
   "outputs": [],
   "source": [
    "loss_values = []\n",
    "acc_values = []\n",
    "batch_size = 128\n",
    "n_epoch = 5"
   ]
  },
  {
   "cell_type": "code",
   "execution_count": 14,
   "metadata": {
    "id": "3otdLWYa1D9s"
   },
   "outputs": [],
   "source": [
    "for epoch in range(n_epoch):\n",
    "    model.train()\n",
    "    loader = data.DataLoader(mnist_train, batch_size=batch_size, shuffle=True)\n",
    "    epoch_loss = []\n",
    "    for X_batch, y_batch in loader:\n",
    "        opt.zero_grad()\n",
    "        logits = model(X_batch)\n",
    "        loss = cost(logits, y_batch)\n",
    "        loss.backward()\n",
    "        opt.step()        \n",
    "        epoch_loss.append(loss.detach())\n",
    "    loss_values.append(torch.tensor(epoch_loss).mean())\n",
    "    model.eval()\n",
    "    loader = data.DataLoader(mnist_validation, batch_size=len(mnist_validation), shuffle=False)\n",
    "    X, y = next(iter(loader))\n",
    "    logits = model(X)\n",
    "    acc = compute_acc(logits, y)\n",
    "    acc_values.append(acc)"
   ]
  },
  {
   "cell_type": "code",
   "execution_count": 15,
   "metadata": {
    "colab": {
     "base_uri": "https://localhost:8080/",
     "height": 545
    },
    "id": "iwAi9ToF1D9t",
    "outputId": "c534aa72-a578-4275-cc8c-7e85dd4b799a"
   },
   "outputs": [
    {
     "data": {
      "image/png": "[encoded data removed]",
      "text/plain": [
       "<Figure size 432x288 with 1 Axes>"
      ]
     },
     "metadata": {
      "needs_background": "light"
     },
     "output_type": "display_data"
    },
    {
     "data": {
      "image/png": "[encoded data removed]",
      "text/plain": [
       "<Figure size 432x288 with 1 Axes>"
      ]
     },
     "metadata": {
      "needs_background": "light"
     },
     "output_type": "display_data"
    }
   ],
   "source": [
    "plt.title(\"Loss na zbiorze uczącym\")\n",
    "plt.plot(loss_values)\n",
    "plt.show()\n",
    "plt.title(\"Accuracy na zbiorze walidującym\")\n",
    "plt.plot(acc_values)\n",
    "plt.show()"
   ]
  },
  {
   "cell_type": "markdown",
   "metadata": {
    "id": "oCG5VE4R1D9t"
   },
   "source": [
    "Uruchom ponownie powyższe trzy komórki z kodem. Ponieważ klasyfikator i optymalizator ciągle reprezentują te same obiekty, więc już nauczone wartości parametrów są pamiętane i wykres wygląda zupełnie inaczej. Żeby powrócić do stanu początkowego trzeba stworzyć na nowo obiekty `model` i `opt`."
   ]
  },
  {
   "cell_type": "markdown",
   "metadata": {
    "id": "ipGMZu7j1D9u"
   },
   "source": [
    "## Sieć neuronowa z jedną warstwą ukrytą\n",
    "\n",
    "Regresja logistyczna to wariant sieci neuronowej bez warstw ukrytych. Wykorzystaj powyższy kod i rozszerz go o warstwę ukrytą o h=500 neuronach. Żeby połączyć kilka obiektów typu `torch.nn.Module` w sekwencję wykorzystaj klasę `torch.nn.Sequential`. Do implementacji nieliniowości między warstwami wykorzystaj funkcję LeakyReLU implementowaną przez klasę `torch.nn.LeakyReLU`"
   ]
  },
  {
   "cell_type": "code",
   "execution_count": 16,
   "metadata": {
    "id": "VHBS63jg1D9u"
   },
   "outputs": [],
   "source": [
    "p = 28*28 # obrazki mają rozmiar 28x28 pikseli\n",
    "h = 500 # wyjście pierwszej warstwy\n",
    "k = 10 # jest 10 klas - cyfry 0..9\n",
    "model = nn.Sequential(nn.Linear(p, h), nn.LeakyReLU(), nn.Linear(h, k))\n",
    "opt = optim.Adam(model.parameters())\n",
    "cost = torch.nn.CrossEntropyLoss()"
   ]
  },
  {
   "cell_type": "markdown",
   "metadata": {
    "id": "kiwiJREw1D9v"
   },
   "source": [
    "Zaimplementuj uczenie przez 10 epok. W trakcie uczenia zbieraj wartości straty i accuracy na zbiorze uczącym i na zbiorze walidującym, a następnie narysuj je na wykresach."
   ]
  },
  {
   "cell_type": "code",
   "execution_count": 17,
   "metadata": {
    "id": "e8PmDFAp4KFY"
   },
   "outputs": [],
   "source": [
    "p = 28*28 # obrazki mają rozmiar 28x28 pikseli\n",
    "h = 500 # wyjście pierwszej warstwy\n",
    "k = 10 # jest 10 klas - cyfry 0..9\n",
    "model = nn.Sequential(nn.Linear(p, h), nn.LeakyReLU(), nn.Linear(h, k))\n",
    "opt = optim.Adam(model.parameters())\n",
    "cost = torch.nn.CrossEntropyLoss()"
   ]
  },
  {
   "cell_type": "code",
   "execution_count": 18,
   "metadata": {
    "collapsed": true,
    "id": "OWFrzq1H7Dbq"
   },
   "outputs": [],
   "source": [
    "loss_values = []\n",
    "acc_values = []\n",
    "batch_size = 128\n",
    "n_epoch = 10"
   ]
  },
  {
   "cell_type": "code",
   "execution_count": 19,
   "metadata": {
    "id": "QEQxxGX17Dbr"
   },
   "outputs": [],
   "source": [
    "for epoch in range(n_epoch):\n",
    "    model.train()\n",
    "    loader = data.DataLoader(mnist_train, batch_size=batch_size, shuffle=True)\n",
    "    epoch_loss = []\n",
    "    for X_batch, y_batch in loader:\n",
    "        opt.zero_grad()\n",
    "        logits = model(X_batch)\n",
    "        loss = cost(logits, y_batch)\n",
    "        loss.backward()\n",
    "        opt.step()        \n",
    "        epoch_loss.append(loss.detach())\n",
    "    loss_values.append(torch.tensor(epoch_loss).mean())\n",
    "    model.eval()\n",
    "    loader = data.DataLoader(mnist_validation, batch_size=len(mnist_validation), shuffle=False)\n",
    "    X, y = next(iter(loader))\n",
    "    logits = model(X)\n",
    "    acc = compute_acc(logits, y)\n",
    "    acc_values.append(acc)"
   ]
  },
  {
   "cell_type": "code",
   "execution_count": 20,
   "metadata": {
    "colab": {
     "base_uri": "https://localhost:8080/",
     "height": 545
    },
    "id": "6CmDNWzQ7Dbs",
    "outputId": "e40d381c-65ef-4452-f6af-827345533ba7"
   },
   "outputs": [
    {
     "data": {
      "image/png": "[encoded data removed]",
      "text/plain": [
       "<Figure size 432x288 with 1 Axes>"
      ]
     },
     "metadata": {
      "needs_background": "light"
     },
     "output_type": "display_data"
    },
    {
     "data": {
      "image/png": "[encoded data removed]",
      "text/plain": [
       "<Figure size 432x288 with 1 Axes>"
      ]
     },
     "metadata": {
      "needs_background": "light"
     },
     "output_type": "display_data"
    }
   ],
   "source": [
    "plt.title(\"Loss na zbiorze uczącym\")\n",
    "plt.plot(loss_values)\n",
    "plt.show()\n",
    "plt.title(\"Accuracy na zbiorze walidującym\")\n",
    "plt.plot(acc_values)\n",
    "plt.show()"
   ]
  }
 ],
 "metadata": {
  "colab": {
   "name": "lab3.ipynb",
   "provenance": []
  },
  "kernelspec": {
   "display_name": "Python 3 (ipykernel)",
   "language": "python",
   "name": "python3"
  },
  "language_info": {
   "codemirror_mode": {
    "name": "ipython",
    "version": 3
   },
   "file_extension": ".py",
   "mimetype": "text/x-python",
   "name": "python",
   "nbconvert_exporter": "python",
   "pygments_lexer": "ipython3",
   "version": "3.9.7"
  }
 },
 "nbformat": 4,
 "nbformat_minor": 1
}