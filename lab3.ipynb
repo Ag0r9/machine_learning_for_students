{
 "cells": [
  {
   "cell_type": "markdown",
   "metadata": {
    "collapsed": true
   },
   "source": [
    "## Uczenie głębokie z wykorzystaniem dedykowanych narzędzi\n",
    "\n",
    "### Spis treści:\n",
    "    1) Wstęp: oprogramowanie dedykowane sieciom neuronowym\n",
    "    2) Wstep do obliczeń symbolicznych\n",
    "        2.0) teoria\n",
    "        2.1) ćwiczenie\n",
    "    3) Keras\n",
    "        3.0) prezentacja framework'u\n",
    "        3.1) ćwiczenie: implementacja modelu\n",
    "        3.2) implementacja warstw\n",
    "        3.3) ćwiczenie: implementacja własnej warstwy\n",
    "    4.) Hands-on computer vision: prezentacja i ćwiczenie z rozponawania obrazu"
   ]
  },
  {
   "cell_type": "markdown",
   "metadata": {},
   "source": [
    "----"
   ]
  },
  {
   "cell_type": "markdown",
   "metadata": {
    "collapsed": true
   },
   "source": [
    "## 1.)  Wstęp: oprogramowanie dedykowane sieciom neuronowym"
   ]
  },
  {
   "cell_type": "markdown",
   "metadata": {},
   "source": [
    "- Wraz z rosnącym zainteresowaniem sieciami neuronowymi, rosło zapotrzebowanie na dedykowane narzędzia, które ułatwiłyby i przyspieszyły proces tworzenia, a następnie uczenia głębokich modeli. \n",
    "\n",
    "\n",
    "- Z upływem lat kolejne grupy badawcze prezentowały swoje rozwiązania, a w ostatnim czasie tematem zainteresował się również przemysł. Dzięki nowym źródłom finansowania i niesłabnącemu zapotrzebowaniu, większość frameworków jest obecnie aktywnie rozwijana i ulepszana."
   ]
  },
  {
   "cell_type": "markdown",
   "metadata": {},
   "source": [
    "- Do najpopularniejszych narzędzi należą:\n",
    "\n",
    "    - [Tensorflow](http://tensorflow.org) (**Google**)\n",
    "        - Python, Go, C++\n",
    "        - Najpopularniejszy z obecnie istniejących frameworków\n",
    "        - Najintensywniej rozwijany\n",
    "\n",
    "    - [Theano](http://deeplearning.net/software/theano/) (**U. Montreal**)\n",
    "        - Python\n",
    "        - Był prekursorem TensorFlow\n",
    "        - Rozwijany przez uniwersytet w Montrealu (non-profit)\n",
    "        - Obecnie coraz częściej porzucany na rzecz TF\n",
    "\n",
    "    - [Torch](http://torch.ch/) (**Facebook, Twitter**)\n",
    "        - Lua\n",
    "        - Najmniej popularny ze względu na brak bindingów Pythonoych\n",
    "        - Nie wspiera automatycznego różniczkowania\n",
    "\n",
    "    - [MXNet](http://mxnet.io/) (**Amazon**)\n",
    "        - Python, C++, Go, Julia, Scala, R, ...\n",
    "        - Najwydajniejszy pod względem pamięci \n",
    "        - Od niedawna wspierany przez Amazon"
   ]
  },
  {
   "cell_type": "markdown",
   "metadata": {},
   "source": [
    "<img style=\"float: left;\" src=\"img/tf-logo-2.png\"> \n",
    "<img style=\"float: left;\" src=\"img/th-logo.png\">\n",
    "<img style=\"float: left;\" src=\"img/torch-logo-f.png\">\n",
    "<img style=\"float: left;\" src=\"img/mx-logo.png\">"
   ]
  },
  {
   "cell_type": "markdown",
   "metadata": {},
   "source": [
    "- Wszystkie z tych narzędzi są rozwijane jako proejkty OpenSource:\n",
    "\n",
    "    - https://github.com/tensorflow/tensorflow\n",
    "\n",
    "    - https://github.com/torch/torch7\n",
    "\n",
    "    - https://github.com/Theano/Theano\n",
    "\n",
    "    - https://github.com/dmlc/mxnet"
   ]
  },
  {
   "cell_type": "markdown",
   "metadata": {},
   "source": [
    "- Wymienione wyżej narzędzia to zazwyczaj biblioteki operujące na dosyć niskim poziomie abstrakcji.\n",
    "\n",
    "- Wokół nich powstało wiele projektów mających jeszcze bardziej ułatwić użytkownikom uczenie sieci neuronowych.\n",
    "\n",
    "- Najpopularniejszym z takich projektów jest obecnie **Keras**, na którym skupimy się w dalszej części\n",
    "\n",
    "![k](img/keras-logo.png)"
   ]
  },
  {
   "cell_type": "markdown",
   "metadata": {},
   "source": [
    "----"
   ]
  },
  {
   "cell_type": "markdown",
   "metadata": {
    "collapsed": false
   },
   "source": [
    "## 2.) Wstep do obliczeń symbolicznych\n",
    "\n",
    "- Sercem większości frameworków wysokiego poziomu jest jeden z wyżej wymienionych silników.\n",
    "- Keras, którego będziemy dzisiaj używać, posiada dwa takie backendy: Tensorflow oraz Theano\n",
    "- Warto poświęcić chwilę, żeby zapoznać się z najbardziej podstawowymi zastadami ich działania."
   ]
  },
  {
   "cell_type": "markdown",
   "metadata": {
    "collapsed": true
   },
   "source": [
    "- Tensorflow i Theano to przykłady narzędzi, które tworzą graf operacji symbolicznych.\n",
    "\n",
    "- Oznacza to, że operacje wykonywane na zmiennych nie mają natychmiastowego efektu. Są jedynie dodawane do grafu.\n",
    "\n",
    "- Następnie graf jest kompilowany i wykonwyany."
   ]
  },
  {
   "cell_type": "markdown",
   "metadata": {},
   "source": [
    "Przykład:"
   ]
  },
  {
   "cell_type": "code",
   "execution_count": 28,
   "metadata": {
    "collapsed": false
   },
   "outputs": [
    {
     "name": "stdout",
     "output_type": "stream",
     "text": [
      "Tensor(\"add:0\", shape=(), dtype=float32)\n"
     ]
    }
   ],
   "source": [
    "import tensorflow as tf\n",
    "tf.reset_default_graph()\n",
    "\n",
    "a = tf.Variable(2.)\n",
    "b = tf.Variable(2.)\n",
    "result = a + b\n",
    "\n",
    "print(result)"
   ]
  },
  {
   "cell_type": "markdown",
   "metadata": {},
   "source": [
    "`result` nie jest równe 4! \n",
    "\n",
    "Jest tylko węzłem w grafie, symbolizującym operację dodania zmiennej `a` do `b`"
   ]
  },
  {
   "cell_type": "code",
   "execution_count": 29,
   "metadata": {
    "collapsed": false,
    "scrolled": true
   },
   "outputs": [
    {
     "data": {
      "text/html": [
       "\n",
       "        <iframe seamless style=\"width:900px;height:300px;border:0\" srcdoc=\"\n",
       "        <script>\n",
       "          function load() {\n",
       "            document.getElementById(&quot;graph0.4947157476537979&quot;).pbtxt = 'node {\\n  name: &quot;Variable/initial_value&quot;\\n  op: &quot;Const&quot;\\n  attr {\\n    key: &quot;dtype&quot;\\n    value {\\n      type: DT_FLOAT\\n    }\\n  }\\n  attr {\\n    key: &quot;value&quot;\\n    value {\\n      tensor {\\n        dtype: DT_FLOAT\\n        tensor_shape {\\n        }\\n        float_val: 2.0\\n      }\\n    }\\n  }\\n}\\nnode {\\n  name: &quot;Variable&quot;\\n  op: &quot;Variable&quot;\\n  attr {\\n    key: &quot;container&quot;\\n    value {\\n      s: &quot;&quot;\\n    }\\n  }\\n  attr {\\n    key: &quot;dtype&quot;\\n    value {\\n      type: DT_FLOAT\\n    }\\n  }\\n  attr {\\n    key: &quot;shape&quot;\\n    value {\\n      shape {\\n      }\\n    }\\n  }\\n  attr {\\n    key: &quot;shared_name&quot;\\n    value {\\n      s: &quot;&quot;\\n    }\\n  }\\n}\\nnode {\\n  name: &quot;Variable/Assign&quot;\\n  op: &quot;Assign&quot;\\n  input: &quot;Variable&quot;\\n  input: &quot;Variable/initial_value&quot;\\n  attr {\\n    key: &quot;T&quot;\\n    value {\\n      type: DT_FLOAT\\n    }\\n  }\\n  attr {\\n    key: &quot;_class&quot;\\n    value {\\n      list {\\n        s: &quot;loc:@Variable&quot;\\n      }\\n    }\\n  }\\n  attr {\\n    key: &quot;use_locking&quot;\\n    value {\\n      b: true\\n    }\\n  }\\n  attr {\\n    key: &quot;validate_shape&quot;\\n    value {\\n      b: true\\n    }\\n  }\\n}\\nnode {\\n  name: &quot;Variable/read&quot;\\n  op: &quot;Identity&quot;\\n  input: &quot;Variable&quot;\\n  attr {\\n    key: &quot;T&quot;\\n    value {\\n      type: DT_FLOAT\\n    }\\n  }\\n  attr {\\n    key: &quot;_class&quot;\\n    value {\\n      list {\\n        s: &quot;loc:@Variable&quot;\\n      }\\n    }\\n  }\\n}\\nnode {\\n  name: &quot;Variable_1/initial_value&quot;\\n  op: &quot;Const&quot;\\n  attr {\\n    key: &quot;dtype&quot;\\n    value {\\n      type: DT_FLOAT\\n    }\\n  }\\n  attr {\\n    key: &quot;value&quot;\\n    value {\\n      tensor {\\n        dtype: DT_FLOAT\\n        tensor_shape {\\n        }\\n        float_val: 2.0\\n      }\\n    }\\n  }\\n}\\nnode {\\n  name: &quot;Variable_1&quot;\\n  op: &quot;Variable&quot;\\n  attr {\\n    key: &quot;container&quot;\\n    value {\\n      s: &quot;&quot;\\n    }\\n  }\\n  attr {\\n    key: &quot;dtype&quot;\\n    value {\\n      type: DT_FLOAT\\n    }\\n  }\\n  attr {\\n    key: &quot;shape&quot;\\n    value {\\n      shape {\\n      }\\n    }\\n  }\\n  attr {\\n    key: &quot;shared_name&quot;\\n    value {\\n      s: &quot;&quot;\\n    }\\n  }\\n}\\nnode {\\n  name: &quot;Variable_1/Assign&quot;\\n  op: &quot;Assign&quot;\\n  input: &quot;Variable_1&quot;\\n  input: &quot;Variable_1/initial_value&quot;\\n  attr {\\n    key: &quot;T&quot;\\n    value {\\n      type: DT_FLOAT\\n    }\\n  }\\n  attr {\\n    key: &quot;_class&quot;\\n    value {\\n      list {\\n        s: &quot;loc:@Variable_1&quot;\\n      }\\n    }\\n  }\\n  attr {\\n    key: &quot;use_locking&quot;\\n    value {\\n      b: true\\n    }\\n  }\\n  attr {\\n    key: &quot;validate_shape&quot;\\n    value {\\n      b: true\\n    }\\n  }\\n}\\nnode {\\n  name: &quot;Variable_1/read&quot;\\n  op: &quot;Identity&quot;\\n  input: &quot;Variable_1&quot;\\n  attr {\\n    key: &quot;T&quot;\\n    value {\\n      type: DT_FLOAT\\n    }\\n  }\\n  attr {\\n    key: &quot;_class&quot;\\n    value {\\n      list {\\n        s: &quot;loc:@Variable_1&quot;\\n      }\\n    }\\n  }\\n}\\nnode {\\n  name: &quot;add&quot;\\n  op: &quot;Add&quot;\\n  input: &quot;Variable/read&quot;\\n  input: &quot;Variable_1/read&quot;\\n  attr {\\n    key: &quot;T&quot;\\n    value {\\n      type: DT_FLOAT\\n    }\\n  }\\n}\\n';\n",
       "          }\n",
       "        </script>\n",
       "        <link rel=&quot;import&quot; href=&quot;https://tensorboard.appspot.com/tf-graph-basic.build.html&quot; onload=load()>\n",
       "        <div style=&quot;height:600px&quot;>\n",
       "          <tf-graph-basic id=&quot;graph0.4947157476537979&quot;></tf-graph-basic>\n",
       "        </div>\n",
       "    \"></iframe>\n",
       "    "
      ],
      "text/plain": [
       "<IPython.core.display.HTML object>"
      ]
     },
     "metadata": {},
     "output_type": "display_data"
    }
   ],
   "source": [
    "show_graph(width=900, height=300)"
   ]
  },
  {
   "cell_type": "markdown",
   "metadata": {},
   "source": [
    "Zbudowany graf możemy \"wykonać\", jako parametr `outptus` podając te zmienne, które chcemy obliczyć."
   ]
  },
  {
   "cell_type": "code",
   "execution_count": 30,
   "metadata": {
    "collapsed": false
   },
   "outputs": [
    {
     "data": {
      "text/plain": [
       "[4.0]"
      ]
     },
     "execution_count": 30,
     "metadata": {},
     "output_type": "execute_result"
    }
   ],
   "source": [
    "from helpers3 import execute_tf_graph\n",
    "\n",
    "execute_tf_graph(result)"
   ]
  },
  {
   "cell_type": "markdown",
   "metadata": {},
   "source": [
    "Dobrze, ale co zrobić, jeżeli chcemy obliczyć sumę `2 + 3`. Czy musimy zbudować i skompilować cały graf od nowa?\n",
    "\n",
    "Na szczęście nie -- możemy podać wartości dowolnej zmiennej w grafie przy jego wywołaniu.\n",
    "\n",
    "Aby to zrobić, tworzymy słownik, który przypisze wybranym zmiennym odpowiednie wartości"
   ]
  },
  {
   "cell_type": "code",
   "execution_count": 31,
   "metadata": {
    "collapsed": false
   },
   "outputs": [
    {
     "data": {
      "text/plain": [
       "[5.0]"
      ]
     },
     "execution_count": 31,
     "metadata": {},
     "output_type": "execute_result"
    }
   ],
   "source": [
    "inputs = {\n",
    "    a: 2,\n",
    "    b: 3\n",
    "}\n",
    "\n",
    "execute_tf_graph(outputs=result, inputs=inputs)"
   ]
  },
  {
   "cell_type": "markdown",
   "metadata": {},
   "source": [
    "Zwróć uwagę, że w słowniku tym nie podajemy nazw zmiennych (typu `str`), ale obiekty `Pythona`!\n",
    "\n",
    "**Uwaga!**: w praktyce, jeżeli chcemy, żeby nasza zmienna była inicjalizowana dopiero przy wywołaniu grafu, \n",
    "oraz żeby jej podanie było obowiązkowe, należy **tf.Variable** zamienić na **tf.placeholder**"
   ]
  },
  {
   "cell_type": "code",
   "execution_count": 48,
   "metadata": {
    "collapsed": false
   },
   "outputs": [
    {
     "name": "stdout",
     "output_type": "stream",
     "text": [
      "You must feed a value for placeholder tensor 'zmienna_a' with dtype float\n",
      "\t [[Node: zmienna_a = Placeholder[dtype=DT_FLOAT, shape=[], _device=\"/job:localhost/replica:0/task:0/cpu:0\"]()]]\n"
     ]
    }
   ],
   "source": [
    "tf.reset_default_graph()\n",
    "a = tf.placeholder(dtype=np.float32, name='zmienna_a')\n",
    "result = a + 1\n",
    "\n",
    "try:\n",
    "    execute_tf_graph(result)\n",
    "except tf.python.errors.InvalidArgumentError as e:\n",
    "    print(e.message)"
   ]
  },
  {
   "cell_type": "markdown",
   "metadata": {},
   "source": [
    "----"
   ]
  },
  {
   "cell_type": "markdown",
   "metadata": {
    "collapsed": true
   },
   "source": [
    "### zadanie 1: \n",
    "    - oblicz kwadraty liczb 2, 3 i 4 używając tensorflow. Wykorzystaj mechanizm placeholderów"
   ]
  },
  {
   "cell_type": "markdown",
   "metadata": {
    "collapsed": true
   },
   "source": [
    "### rozwiązanie 1: "
   ]
  },
  {
   "cell_type": "code",
   "execution_count": 50,
   "metadata": {
    "collapsed": false
   },
   "outputs": [
    {
     "name": "stdout",
     "output_type": "stream",
     "text": [
      "[4.0]\n",
      "[9.0]\n",
      "[16.0]\n"
     ]
    }
   ],
   "source": [
    "x = tf.placeholder(np.float32)\n",
    "result = x * x\n",
    "\n",
    "for i in {2, 3, 4}:\n",
    "    outputs = result\n",
    "    inputs = {\n",
    "        x: i\n",
    "    }\n",
    "    \n",
    "    returned = execute_tf_graph(outputs=result, inputs=inputs)\n",
    "    print(returned)"
   ]
  },
  {
   "cell_type": "markdown",
   "metadata": {
    "collapsed": true
   },
   "source": [
    "### zadanie 2: \n",
    "    - dodaj dwie macierze jednostkowe 2x2"
   ]
  },
  {
   "cell_type": "markdown",
   "metadata": {
    "collapsed": true
   },
   "source": [
    "### rozwiązanie 2: "
   ]
  },
  {
   "cell_type": "code",
   "execution_count": 53,
   "metadata": {
    "collapsed": false,
    "scrolled": true
   },
   "outputs": [
    {
     "data": {
      "text/plain": [
       "[array([[ 2.,  0.],\n",
       "        [ 0.,  2.]], dtype=float32)]"
      ]
     },
     "execution_count": 53,
     "metadata": {},
     "output_type": "execute_result"
    }
   ],
   "source": [
    "A = tf.placeholder(dtype=np.float32)\n",
    "B = tf.placeholder(dtype=np.float32)\n",
    "result = A + B\n",
    "\n",
    "inputs = {\n",
    "    A: np.array([\n",
    "            [1, 0],\n",
    "            [0, 1]\n",
    "        ]),\n",
    "    B: np.array([\n",
    "            [1, 0],\n",
    "            [0, 1]\n",
    "        ])\n",
    "}\n",
    "\n",
    "execute_tf_graph(outputs=[result], inputs=inputs)"
   ]
  },
  {
   "cell_type": "markdown",
   "metadata": {},
   "source": [
    "- Warto zaznaczyć, iż **Tensorflow został stworzony dla operacji na macierzach (tensorach)**. Radzi więc sobie wspaniale z wielowymiarowymi danymi. (Patrz rozw. powyżej)\n",
    "\n",
    "- Jakie są jednak konkretne zalety tego symbolicznego podejścia? Trzy najważniejsze to:\n",
    "    1. Optymalizacja: znając cały graf, kompilator może zoptymalizować wykonywane operacje\n",
    "    2. Współbieżność: kompilator sam zadba o to, aby wykonać obliczenia równolegle\n",
    "    3. Niezależność od architektury: Znając graf, kompilator może wygenerować kod dla CPU / GPU / FPGA etc.\n",
    "    \n",
    "- Szczególnie punkt trzeci jest tak istotny, gdyż obecnie do uczenia sieci neuronowych niemalże niezbędny jest procesor graficzny wspierający technologię `CUDA`"
   ]
  },
  {
   "cell_type": "markdown",
   "metadata": {
    "collapsed": true
   },
   "source": [
    "---- "
   ]
  },
  {
   "cell_type": "markdown",
   "metadata": {},
   "source": [
    "## 3.) Keras"
   ]
  },
  {
   "cell_type": "code",
   "execution_count": 17,
   "metadata": {
    "collapsed": true
   },
   "outputs": [],
   "source": [
    "# Wyższy poziom abstrakcji\n",
    "\n",
    "# Warto wiedzieć, jakie są ogólne zasady rządzące tak popularnymi narzędziami jak tensorflow \n",
    "# W praktyce jednak, najczęściej korzystamy z narzędzi wyższego poziomu, które pozwalają nie myśleć o obliczeniach symbolicznych."
   ]
  },
  {
   "cell_type": "code",
   "execution_count": 18,
   "metadata": {
    "collapsed": true
   },
   "outputs": [],
   "source": [
    "# Keras\n",
    "    # Jednym z popularniejszych narzędzi jest Keras. \n",
    "    # Pozwala on łatwo tworzyć modele z popularnych \"klocków\""
   ]
  },
  {
   "cell_type": "code",
   "execution_count": 23,
   "metadata": {
    "collapsed": true
   },
   "outputs": [],
   "source": [
    "# Aby z powodzeniem zastosować algorytm uczenia głębokiego \n",
    "# Potrzebne nam będą 4 elementy:\n",
    "    # dane\n",
    "    # architektura sieci\n",
    "    # funckja straty\n",
    "    # algorytm optymalizacji"
   ]
  },
  {
   "cell_type": "code",
   "execution_count": null,
   "metadata": {
    "collapsed": true
   },
   "outputs": [],
   "source": [
    "# Dane\n",
    "\n",
    "# keras współpracuje z numpy, w związku z tym te etap nie będzie dla nas problemem\n",
    "# wystarczy wczytać dane znane już z poprzednich zajęć:\n",
    "X = np.load(...)\n",
    "y = np.load(...)\n",
    "\n",
    "# warto zaznaczyć, iż keras potrafi współpracować także z danymi w innym formacie, np. hdf5"
   ]
  },
  {
   "cell_type": "code",
   "execution_count": null,
   "metadata": {
    "collapsed": true
   },
   "outputs": [],
   "source": [
    "# Architektura sieci. \n",
    "\n",
    "# Keras wspiera dwie metody definiowania architektury: model liniowy i API funkcjonalne."
   ]
  },
  {
   "cell_type": "code",
   "execution_count": null,
   "metadata": {
    "collapsed": true
   },
   "outputs": [],
   "source": [
    "# [pozbyć się tego kodu...?]\n",
    "\n",
    "# Przykładowy model może wyglądać następująco:\n",
    "\n",
    "# Liniowo:\n",
    "model = Sequential()\n",
    "model.add(Dense(32, input_dim=128))\n",
    "model.add(Activation('relu'))\n",
    "\n",
    "# Funckojnalnie:\n",
    "x = Input(input_dim=128)\n",
    "x = Dense(32)(x)\n",
    "x = Activation('relu')(x)\n",
    "model = Model(x)"
   ]
  },
  {
   "cell_type": "code",
   "execution_count": 26,
   "metadata": {
    "collapsed": true
   },
   "outputs": [],
   "source": [
    "# Skupimy się dzisiaj głównie na modelach liniowych, ponieważ w zupełności wystarczają one do większośći zastosowań praktycznych."
   ]
  },
  {
   "cell_type": "code",
   "execution_count": null,
   "metadata": {
    "collapsed": true
   },
   "outputs": [],
   "source": [
    "# Warstwy:\n",
    "\n",
    "# Podstawowym elementem, z którego budowana jest sieć neuronowa, jest warstwa. \n",
    "# Model liniowy w kerasie to nic innego, jak tylko złożenie kolejnych, następujących po sobie warstw.\n",
    "\n",
    "# Warstwa (layer) jest podstawową jednostką przetwarzania: \n",
    "# przyjmuje ona jakąś macierz (tensor) na wejściu, modyfikuje ją, a następnie podaje na wyściu"
   ]
  },
  {
   "cell_type": "code",
   "execution_count": null,
   "metadata": {
    "collapsed": true
   },
   "outputs": [],
   "source": [
    "# Aby zobrazować to w praktyce, zaimplementujemy regresję logistyczną, poznaną na poprzednich zajęciach, z użyciem kerasa"
   ]
  },
  {
   "cell_type": "code",
   "execution_count": null,
   "metadata": {
    "collapsed": true
   },
   "outputs": [],
   "source": [
    "# Regresja logisytczna "
   ]
  },
  {
   "cell_type": "code",
   "execution_count": null,
   "metadata": {
    "collapsed": true
   },
   "outputs": [],
   "source": [
    "# ćwiczenie?"
   ]
  },
  {
   "cell_type": "code",
   "execution_count": null,
   "metadata": {
    "collapsed": true
   },
   "outputs": [],
   "source": [
    "# MLP"
   ]
  },
  {
   "cell_type": "code",
   "execution_count": null,
   "metadata": {
    "collapsed": true
   },
   "outputs": [],
   "source": [
    "# ćwiczenie?"
   ]
  },
  {
   "cell_type": "code",
   "execution_count": null,
   "metadata": {
    "collapsed": true
   },
   "outputs": [],
   "source": [
    "# Implementacja własnej warstwy"
   ]
  },
  {
   "cell_type": "code",
   "execution_count": null,
   "metadata": {
    "collapsed": true
   },
   "outputs": [],
   "source": [
    "# ćwiczenie?"
   ]
  },
  {
   "cell_type": "code",
   "execution_count": null,
   "metadata": {
    "collapsed": true
   },
   "outputs": [],
   "source": []
  },
  {
   "cell_type": "code",
   "execution_count": null,
   "metadata": {
    "collapsed": true
   },
   "outputs": [],
   "source": [
    "# Teraz, kiedy znamy już podstawowe zasady rządzące Kerasem\n",
    "# Pokażemy, w jak łatwy sposób można wykorzystać to narzędzie to rozpoznawania obrazu.\n",
    "\n",
    "# W sposób trywialnie prosty otrzymamy wynik, który jeszcze parę lat temu pozostawał poza zasięgiem najbardziej zaawansowanych metod."
   ]
  },
  {
   "cell_type": "code",
   "execution_count": null,
   "metadata": {
    "collapsed": true
   },
   "outputs": [],
   "source": []
  },
  {
   "cell_type": "code",
   "execution_count": null,
   "metadata": {
    "collapsed": true
   },
   "outputs": [],
   "source": []
  },
  {
   "cell_type": "code",
   "execution_count": null,
   "metadata": {
    "collapsed": true
   },
   "outputs": [],
   "source": []
  },
  {
   "cell_type": "code",
   "execution_count": null,
   "metadata": {
    "collapsed": true
   },
   "outputs": [],
   "source": []
  },
  {
   "cell_type": "code",
   "execution_count": null,
   "metadata": {
    "collapsed": true
   },
   "outputs": [],
   "source": []
  },
  {
   "cell_type": "code",
   "execution_count": 9,
   "metadata": {
    "collapsed": false
   },
   "outputs": [
    {
     "data": {
      "text/plain": [
       "'Variable/initial_value'"
      ]
     },
     "execution_count": 9,
     "metadata": {},
     "output_type": "execute_result"
    }
   ],
   "source": [
    "o.name# Budowanie modelu"
   ]
  },
  {
   "cell_type": "code",
   "execution_count": 4,
   "metadata": {
    "collapsed": true
   },
   "outputs": [],
   "source": [
    "# Implementacja warstw"
   ]
  },
  {
   "cell_type": "code",
   "execution_count": 5,
   "metadata": {
    "collapsed": true
   },
   "outputs": [],
   "source": [
    "# Sieci konwolucyjne"
   ]
  },
  {
   "cell_type": "code",
   "execution_count": 7,
   "metadata": {
    "collapsed": true
   },
   "outputs": [],
   "source": [
    "# Potęga Deep Learning\n",
    "\n",
    "# zbuduj swój model, mając \"core\""
   ]
  },
  {
   "cell_type": "code",
   "execution_count": null,
   "metadata": {
    "collapsed": true
   },
   "outputs": [],
   "source": []
  }
 ],
 "metadata": {
  "anaconda-cloud": {},
  "kernelspec": {
   "display_name": "Python [default]",
   "language": "python",
   "name": "python3"
  },
  "language_info": {
   "codemirror_mode": {
    "name": "ipython",
    "version": 3
   },
   "file_extension": ".py",
   "mimetype": "text/x-python",
   "name": "python",
   "nbconvert_exporter": "python",
   "pygments_lexer": "ipython3",
   "version": "3.5.2"
  }
 },
 "nbformat": 4,
 "nbformat_minor": 2
}
