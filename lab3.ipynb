{
 "cells": [
  {
   "cell_type": "code",
   "execution_count": null,
   "metadata": {
    "collapsed": true
   },
   "outputs": [],
   "source": [
    "# Uczenie głębokie z wykorzystaniem dedykowanych narzędzi"
   ]
  },
  {
   "cell_type": "code",
   "execution_count": null,
   "metadata": {
    "collapsed": true
   },
   "outputs": [],
   "source": [
    "# Outline:\n",
    "    # 1) intro do deep learning software\n",
    "    \n",
    "    # 2) intro do obliczeń symbolicznych\n",
    "        # 2.1) ćwiczenie\n",
    "        \n",
    "    # 3.) keras hands-on\n",
    "        # 3.0) intro do kerasa\n",
    "        # 3.1) ćwiczenie: implementacja modelu\n",
    "        # 3.2) implementacja warstw\n",
    "        # 3.3) ćwiczenie: implementacja własnej warstwy\n",
    "    \n",
    "    # 4.) hands-on part II: prezentacja i ćwiczenie z rozponawania obrazu"
   ]
  },
  {
   "cell_type": "code",
   "execution_count": 11,
   "metadata": {
    "collapsed": true
   },
   "outputs": [],
   "source": [
    "# W czym pisze się sieci neuronowe\n",
    "    # dedykowane narzędzia posiadają zoptymalizowane operacje matematyczne\n",
    "    # pozwalają także na wykonywanie obliczeń równolegle lub z użyciem GPU bez wkładu programisty\n",
    "    # ułatwiają konstruckję i uczenie najpopularniejszych modeli. "
   ]
  },
  {
   "cell_type": "code",
   "execution_count": null,
   "metadata": {
    "collapsed": true
   },
   "outputs": [],
   "source": [
    "# Deep Learning landscape: styczeń 2017\n",
    "    # Theano: do niedawna najpopularniejszy framework, univ. of Montreal, jest kompilatorem wyrażeń mat. \n",
    "    # Torch:  do niedawna jedyne zagrożenie dla theano, rozwijany przez fb oraz twittera\n",
    "    # Tensorflow: nowa biblioteka od Google. Najpopularniejszy i najlepiej rozwinięty\n",
    "    \n",
    "    # TODO: Linki, informacje o popularności, odrobinę więcej opisu"
   ]
  },
  {
   "cell_type": "code",
   "execution_count": 1,
   "metadata": {
    "collapsed": true
   },
   "outputs": [],
   "source": [
    "import tensorflow as tf"
   ]
  },
  {
   "cell_type": "code",
   "execution_count": 4,
   "metadata": {
    "collapsed": false
   },
   "outputs": [],
   "source": [
    "# Obliczenia symboliczne\n",
    "\n",
    "# Sercem większości frameworków wysokiego poziomu jest wyspecjalizowany backend obliczeniowy.\n",
    "# Keras, którego będziemy dzisiaj używać, posiada dwa takie backendy: Tensorflow oraz Theano\n",
    "# Warto poświęcić chwilę, żeby zapoznać się z najbardziej podstawowymi zastadami ich działania."
   ]
  },
  {
   "cell_type": "code",
   "execution_count": null,
   "metadata": {
    "collapsed": true
   },
   "outputs": [],
   "source": [
    "# Tensorflow i Theano to przykłady narzędzi, które tworzą graf operacji symbolicznych.\n",
    "# Oznacza to, że operacje wykonywane na zmiennych nie mają natychmiastowego efektu.\n",
    "# Są jedynie dodawane do grafu\n",
    "# Następnie graf jest kompilowany i wykonwyany"
   ]
  },
  {
   "cell_type": "code",
   "execution_count": 20,
   "metadata": {
    "collapsed": false
   },
   "outputs": [
    {
     "name": "stdout",
     "output_type": "stream",
     "text": [
      "Tensor(\"add_2:0\", shape=(), dtype=float32)\n"
     ]
    }
   ],
   "source": [
    "# przykład\n",
    "import tensorflow as tf\n",
    "\n",
    "a = tf.Variable(2.)\n",
    "b = tf.Variable(2.)\n",
    "result = a + b\n",
    "\n",
    "print(result)\n",
    "\n",
    "# result nie jest równe 4! Jest tylko symbolem, oznaczającym \"wynik dodania zmiennej 'a' do zmiennej 'b'\""
   ]
  },
  {
   "cell_type": "code",
   "execution_count": null,
   "metadata": {
    "collapsed": true
   },
   "outputs": [],
   "source": [
    "# Tensorflow pozwala wizualizować stworzony graf:\n",
    "print_default_tf_graph()"
   ]
  },
  {
   "cell_type": "code",
   "execution_count": 5,
   "metadata": {
    "collapsed": false
   },
   "outputs": [
    {
     "name": "stdout",
     "output_type": "stream",
     "text": [
      "[4.0]\n"
     ]
    }
   ],
   "source": [
    "# Przepływ danych w grafie możesz zainicjalizować w następujący sposób:\n",
    "execute_tensorflow_graph(outputs=[result])"
   ]
  },
  {
   "cell_type": "code",
   "execution_count": 21,
   "metadata": {
    "collapsed": false
   },
   "outputs": [],
   "source": [
    "# Powyższy kod był tylko demonstracją idei obliczeń symbolicznych. \n",
    "# W praktyce nie znamy początkowych wartości a i b. \n",
    "# Jak napisać w tensorflow odpowiednik poniższego kodu?\n",
    "\n",
    "def add(a, b):\n",
    "    return a + b\n",
    "\n",
    "result = add(2, 2)"
   ]
  },
  {
   "cell_type": "code",
   "execution_count": null,
   "metadata": {
    "collapsed": true
   },
   "outputs": [],
   "source": [
    "# służą do tego \"placeholdery'.\n",
    "# Informujemy tensorflow, jakiego rodzaju zmiennych ma się spodziewać, ale nie mówimy, jakie są ich wartości\n",
    "\n",
    "a = tf.placeholder()\n",
    "b = tf.placeholder()\n",
    "\n",
    "result = a + b \n",
    "\n",
    "# Aby zainicjalizować przepływ danych w grafie, należy podać początkowe wartości parametrów:\n",
    "inputs = {\n",
    "    a: 2.,\n",
    "    b: 2.\n",
    "}\n",
    "execute_tensorflow_graph(outputs=[result], inputs=inputs)"
   ]
  },
  {
   "cell_type": "code",
   "execution_count": 15,
   "metadata": {
    "collapsed": true
   },
   "outputs": [],
   "source": [
    "# zadanie: oblicz kwadraty liczb 2, 3 i 4 używając tensorflow\n",
    "    # wykorzystaj placeholdery"
   ]
  },
  {
   "cell_type": "code",
   "execution_count": null,
   "metadata": {
    "collapsed": true
   },
   "outputs": [],
   "source": [
    "# rozwiązanie\n",
    "x = tf.placeholder()\n",
    "result = x * x\n",
    "\n",
    "for i in range(2, 5):\n",
    "    inputs = {x: i}\n",
    "    r = execute_tensorflow_graph(outputs=[result], inputs=inputs)\n",
    "    \n",
    "    print(r)"
   ]
  },
  {
   "cell_type": "code",
   "execution_count": null,
   "metadata": {
    "collapsed": true
   },
   "outputs": [],
   "source": [
    "# zadanie: dodaj dwie macierze jednostkowe 2x2"
   ]
  },
  {
   "cell_type": "code",
   "execution_count": null,
   "metadata": {
    "collapsed": true
   },
   "outputs": [],
   "source": [
    "# rozwiązanie\n",
    "\n",
    "A = tf.placeholder()\n",
    "B = tf.placeholder()\n",
    "result = A + B\n",
    "\n",
    "inputs = {\n",
    "    A: np.array([\n",
    "            [1, 0],\n",
    "            [0, 1]\n",
    "        ]),\n",
    "    B: np.array([\n",
    "            [1, 0],\n",
    "            [0, 1]\n",
    "        ])\n",
    "}\n",
    "\n",
    "execute_tensorflow_graph(outputs=[result], inputs=inputs)"
   ]
  },
  {
   "cell_type": "code",
   "execution_count": 22,
   "metadata": {
    "collapsed": true
   },
   "outputs": [],
   "source": [
    "# Jakie są zalety tego dziwnego podejścia?\n",
    "    # Optymalizacja: znając cały graf, kompilator może zoptymalizować wykonaywanie operacji\n",
    "    # Współbieżność: kompilator sam wykorzysta OpenMP aby wykonać obliczenia równolegle\n",
    "    # Niezależność od architektury: Znając graf, kompilator może wygenerować kod dla CPU / GPU / FPGA etc.\n"
   ]
  },
  {
   "cell_type": "code",
   "execution_count": 16,
   "metadata": {
    "collapsed": true
   },
   "outputs": [],
   "source": []
  },
  {
   "cell_type": "code",
   "execution_count": 17,
   "metadata": {
    "collapsed": true
   },
   "outputs": [],
   "source": [
    "# Wyższy poziom abstrakcji\n",
    "\n",
    "# Warto wiedzieć, jakie są ogólne zasady rządzące tak popularnymi narzędziami jak tensorflow \n",
    "# W praktyce jednak, najczęściej korzystamy z narzędzi wyższego poziomu, które pozwalają nie myśleć o obliczeniach symbolicznych."
   ]
  },
  {
   "cell_type": "code",
   "execution_count": 18,
   "metadata": {
    "collapsed": true
   },
   "outputs": [],
   "source": [
    "# Keras\n",
    "    # Jednym z popularniejszych narzędzi jest Keras. \n",
    "    # Pozwala on łatwo tworzyć modele z popularnych \"klocków\""
   ]
  },
  {
   "cell_type": "code",
   "execution_count": 23,
   "metadata": {
    "collapsed": true
   },
   "outputs": [],
   "source": [
    "# Aby z powodzeniem zastosować algorytm uczenia głębokiego \n",
    "# Potrzebne nam będą 4 elementy:\n",
    "    # dane\n",
    "    # architektura sieci\n",
    "    # funckja straty\n",
    "    # algorytm optymalizacji"
   ]
  },
  {
   "cell_type": "code",
   "execution_count": null,
   "metadata": {
    "collapsed": true
   },
   "outputs": [],
   "source": [
    "# Dane\n",
    "\n",
    "# keras współpracuje z numpy, w związku z tym te etap nie będzie dla nas problemem\n",
    "# wystarczy wczytać dane znane już z poprzednich zajęć:\n",
    "X = np.load(...)\n",
    "y = np.load(...)\n",
    "\n",
    "# warto zaznaczyć, iż keras potrafi współpracować także z danymi w innym formacie, np. hdf5"
   ]
  },
  {
   "cell_type": "code",
   "execution_count": null,
   "metadata": {
    "collapsed": true
   },
   "outputs": [],
   "source": [
    "# Architektura sieci. \n",
    "\n",
    "# Keras wspiera dwie metody definiowania architektury: model liniowy i API funkcjonalne."
   ]
  },
  {
   "cell_type": "code",
   "execution_count": null,
   "metadata": {
    "collapsed": true
   },
   "outputs": [],
   "source": [
    "# [pozbyć się tego kodu...?]\n",
    "\n",
    "# Przykładowy model może wyglądać następująco:\n",
    "\n",
    "# Liniowo:\n",
    "model = Sequential()\n",
    "model.add(Dense(32, input_dim=128))\n",
    "model.add(Activation('relu'))\n",
    "\n",
    "# Funckojnalnie:\n",
    "x = Input(input_dim=128)\n",
    "x = Dense(32)(x)\n",
    "x = Activation('relu')(x)\n",
    "model = Model(x)"
   ]
  },
  {
   "cell_type": "code",
   "execution_count": 26,
   "metadata": {
    "collapsed": true
   },
   "outputs": [],
   "source": [
    "# Skupimy się dzisiaj głównie na modelach liniowych, ponieważ w zupełności wystarczają one do większośći zastosowań praktycznych."
   ]
  },
  {
   "cell_type": "code",
   "execution_count": null,
   "metadata": {
    "collapsed": true
   },
   "outputs": [],
   "source": [
    "# Warstwy:\n",
    "\n",
    "# Podstawowym elementem, z którego budowana jest sieć neuronowa, jest warstwa. \n",
    "# Model liniowy w kerasie to nic innego, jak tylko złożenie kolejnych, następujących po sobie warstw.\n",
    "\n",
    "# Warstwa (layer) jest podstawową jednostką przetwarzania: \n",
    "# przyjmuje ona jakąś macierz (tensor) na wejściu, modyfikuje ją, a następnie podaje na wyściu"
   ]
  },
  {
   "cell_type": "code",
   "execution_count": null,
   "metadata": {
    "collapsed": true
   },
   "outputs": [],
   "source": [
    "# Aby zobrazować to w praktyce, zaimplementujemy regresję logistyczną, poznaną na poprzednich zajęciach, z użyciem kerasa"
   ]
  },
  {
   "cell_type": "code",
   "execution_count": null,
   "metadata": {
    "collapsed": true
   },
   "outputs": [],
   "source": [
    "# Regresja logisytczna "
   ]
  },
  {
   "cell_type": "code",
   "execution_count": null,
   "metadata": {
    "collapsed": true
   },
   "outputs": [],
   "source": [
    "# ćwiczenie?"
   ]
  },
  {
   "cell_type": "code",
   "execution_count": null,
   "metadata": {
    "collapsed": true
   },
   "outputs": [],
   "source": [
    "# MLP"
   ]
  },
  {
   "cell_type": "code",
   "execution_count": null,
   "metadata": {
    "collapsed": true
   },
   "outputs": [],
   "source": [
    "# ćwiczenie?"
   ]
  },
  {
   "cell_type": "code",
   "execution_count": null,
   "metadata": {
    "collapsed": true
   },
   "outputs": [],
   "source": [
    "# Implementacja własnej warstwy"
   ]
  },
  {
   "cell_type": "code",
   "execution_count": null,
   "metadata": {
    "collapsed": true
   },
   "outputs": [],
   "source": [
    "# ćwiczenie?"
   ]
  },
  {
   "cell_type": "code",
   "execution_count": null,
   "metadata": {
    "collapsed": true
   },
   "outputs": [],
   "source": []
  },
  {
   "cell_type": "code",
   "execution_count": null,
   "metadata": {
    "collapsed": true
   },
   "outputs": [],
   "source": [
    "# Teraz, kiedy znamy już podstawowe zasady rządzące Kerasem\n",
    "# Pokażemy, w jak łatwy sposób można wykorzystać to narzędzie to rozpoznawania obrazu.\n",
    "\n",
    "# W sposób trywialnie prosty otrzymamy wynik, który jeszcze parę lat temu pozostawał poza zasięgiem najbardziej zaawansowanych metod."
   ]
  },
  {
   "cell_type": "code",
   "execution_count": null,
   "metadata": {
    "collapsed": true
   },
   "outputs": [],
   "source": []
  },
  {
   "cell_type": "code",
   "execution_count": null,
   "metadata": {
    "collapsed": true
   },
   "outputs": [],
   "source": []
  },
  {
   "cell_type": "code",
   "execution_count": null,
   "metadata": {
    "collapsed": true
   },
   "outputs": [],
   "source": []
  },
  {
   "cell_type": "code",
   "execution_count": null,
   "metadata": {
    "collapsed": true
   },
   "outputs": [],
   "source": []
  },
  {
   "cell_type": "code",
   "execution_count": null,
   "metadata": {
    "collapsed": true
   },
   "outputs": [],
   "source": []
  },
  {
   "cell_type": "code",
   "execution_count": 9,
   "metadata": {
    "collapsed": false
   },
   "outputs": [
    {
     "data": {
      "text/plain": [
       "'Variable/initial_value'"
      ]
     },
     "execution_count": 9,
     "metadata": {},
     "output_type": "execute_result"
    }
   ],
   "source": [
    "o.name# Budowanie modelu"
   ]
  },
  {
   "cell_type": "code",
   "execution_count": 4,
   "metadata": {
    "collapsed": true
   },
   "outputs": [],
   "source": [
    "# Implementacja warstw"
   ]
  },
  {
   "cell_type": "code",
   "execution_count": 5,
   "metadata": {
    "collapsed": true
   },
   "outputs": [],
   "source": [
    "# Sieci konwolucyjne"
   ]
  },
  {
   "cell_type": "code",
   "execution_count": 7,
   "metadata": {
    "collapsed": true
   },
   "outputs": [],
   "source": [
    "# Potęga Deep Learning\n",
    "\n",
    "# zbuduj swój model, mając \"core\""
   ]
  },
  {
   "cell_type": "code",
   "execution_count": null,
   "metadata": {
    "collapsed": true
   },
   "outputs": [],
   "source": []
  }
 ],
 "metadata": {
  "anaconda-cloud": {},
  "kernelspec": {
   "display_name": "Python [default]",
   "language": "python",
   "name": "python3"
  },
  "language_info": {
   "codemirror_mode": {
    "name": "ipython",
    "version": 3
   },
   "file_extension": ".py",
   "mimetype": "text/x-python",
   "name": "python",
   "nbconvert_exporter": "python",
   "pygments_lexer": "ipython3",
   "version": "3.5.2"
  }
 },
 "nbformat": 4,
 "nbformat_minor": 2
}
