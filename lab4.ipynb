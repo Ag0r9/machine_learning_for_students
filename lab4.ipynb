{
  "cells": [
    {
      "cell_type": "markdown",
      "metadata": {
        "id": "65Gq9_WwLLZI"
      },
      "source": [
        "# Sieci splotowe"
      ]
    },
    {
      "cell_type": "code",
      "execution_count": 63,
      "metadata": {
        "id": "fyxQXiWrLLZO"
      },
      "outputs": [],
      "source": [
        "%matplotlib inline\n",
        "\n",
        "import matplotlib\n",
        "import numpy as np\n",
        "import matplotlib.pyplot as plt\n",
        "import pandas as pd\n",
        "\n",
        "import torch\n",
        "import torch.nn as nn\n",
        "import torch.optim as optim\n",
        "import torch.utils.data as data\n",
        "\n",
        "from sklearn.metrics import confusion_matrix"
      ]
    },
    {
      "cell_type": "markdown",
      "metadata": {
        "id": "DkmKK6bMLLZU"
      },
      "source": [
        "## Przygotowanie danych\n",
        "Ponownie wykorzystamy w zadaniu zbiór MNIST. Zaczynamy od pobrania dnaych."
      ]
    },
    {
      "cell_type": "code",
      "execution_count": 2,
      "metadata": {
        "id": "3Rg1-T8yLLZX"
      },
      "outputs": [],
      "source": [
        "import torchvision.transforms as transforms\n",
        "from torchvision.datasets import MNIST\n",
        "\n",
        "target_directory = \"mnist\"\n",
        "\n",
        "mnist_real_train = MNIST(target_directory, train=True, download=True, transform=transforms.ToTensor())\n",
        "mnist_test = MNIST(target_directory, train=False, download=True, transform=transforms.ToTensor())"
      ]
    },
    {
      "cell_type": "code",
      "execution_count": 3,
      "metadata": {
        "id": "hPBkORWVLLZa",
        "outputId": "d5c48510-4fba-4455-a24b-f6844c2dae73",
        "colab": {
          "base_uri": "https://localhost:8080/"
        }
      },
      "outputs": [
        {
          "output_type": "execute_result",
          "data": {
            "text/plain": [
              "(48000, 12000)"
            ]
          },
          "metadata": {},
          "execution_count": 3
        }
      ],
      "source": [
        "mnist_train, mnist_validation = data.random_split(mnist_real_train, (48000, 12000))\n",
        "len(mnist_train), len(mnist_validation)"
      ]
    },
    {
      "cell_type": "code",
      "execution_count": 4,
      "metadata": {
        "id": "pLu1siXbLLZe",
        "outputId": "287b185d-6e6f-40ea-c2c7-b135627243cc",
        "colab": {
          "base_uri": "https://localhost:8080/"
        }
      },
      "outputs": [
        {
          "output_type": "execute_result",
          "data": {
            "text/plain": [
              "torch.Size([1, 28, 28])"
            ]
          },
          "metadata": {},
          "execution_count": 4
        }
      ],
      "source": [
        "mnist_train[0][0].shape"
      ]
    },
    {
      "cell_type": "code",
      "execution_count": 5,
      "metadata": {
        "id": "RHgdVxAzLLZg"
      },
      "outputs": [],
      "source": [
        "def compute_acc(logits, expected):\n",
        "    pred = logits.argmax(dim=1)\n",
        "    return (pred == expected).type(torch.float).mean()"
      ]
    },
    {
      "cell_type": "markdown",
      "metadata": {
        "id": "DQwPPgVULLZj"
      },
      "source": [
        "## Budowa sieci neuronowej"
      ]
    },
    {
      "cell_type": "markdown",
      "metadata": {
        "id": "bhVESv7_LLZk"
      },
      "source": [
        "### Warstwa splotowa\n",
        "\n",
        "Warstwa splotowa (ang. *convolutional layer*) przesuwa jądro (ang. *kernel*) po obrazie (w ogólności: po macierzy) miejsce przy miejscu, oblicza wynik i zapamiętuje w macierzy wyjściowej. Na poniższym rysunku mamy do czynienia z obrazem $7\\times 5$ pikseli (jasnoszary obszar w dolnej części rysunku) po którym przesuwane jest jądro $3\\times 3$ piksele. Obrazek jest uzupełniony (ang. *padding*) o zera, zaznaczone na rysunku kolorem ciemnoszarym. Po co takie uzupełnienie? Bez niego macierz wynikowa byłaby mniejsza niż obrazek wejściowy. Czerwony piksel w macierzy wyjściowej obliczany jest następująco: każdy z pikseli obrazu wejściowego jest mnożony przez odpowiadającą mu wartość w filtrze, a tak uzyskane 9 wartości jest sumowane. Następnie ten sam filtr wykorzystywany jest do obliczenia kolejnego piksela - zaznaczonego na niebiesko - na podstawie pikseli wejściowych zaznaczonych niebieską linią przerywaną. Filtr to są wagi splotowej sieci neuronowej, to znaczy to on podlega uczeniu."
      ]
    },
    {
      "cell_type": "markdown",
      "metadata": {
        "id": "LQ85CXwiLLZo"
      },
      "source": [
        "![Rysunek poglądowy dotyczący warstwy splotowej](https://github.com/Ag0r9/machine_learning_for_students/blob/master/img/mlst_1303.png?raw=1)\n",
        "\n",
        "Aurélien Géron \"Hands-On Machine Learning with Scikit-Learn, Keras, and TensorFlow\" O'Reilly Media 2017"
      ]
    },
    {
      "cell_type": "markdown",
      "metadata": {
        "id": "ETW928p2LLZq"
      },
      "source": [
        "Jądro nie musi przsuwać się za każdym razem o 1 piksel, może mieć większy krok (ang. *stride*), jak na poniższym rysunku."
      ]
    },
    {
      "cell_type": "markdown",
      "metadata": {
        "id": "f0kkTDPmLLZt"
      },
      "source": [
        "![Ilustracja *stride*](https://github.com/Ag0r9/machine_learning_for_students/blob/master/img/mlst_1304.png?raw=1)\n",
        "\n",
        "Aurélien Géron \"Hands-On Machine Learning with Scikit-Learn, Keras, and TensorFlow\" O'Reilly Media 2017"
      ]
    },
    {
      "cell_type": "markdown",
      "metadata": {
        "id": "K2xmp3TWLLZv"
      },
      "source": [
        "Ale, ale... przecież obrazki mogą być kolorowe! No i faktycznie, możemy postrzegać pojedynczy obrazek jako kilka obrazków monochromatycznych. Wtedy zamiast przesuwać płaski filtr po pojedynczym obrazku przesuwamy kostkę, której dwa wymiary możemy modyfikować (odpowiedzialne za wysokość i szerokość), natomiast jej głębokość jest ustalona - zależy od liczby warstw obrazka. Na poniższym rysunku zaczynamy od normalnego obrazka RGB, który następnie jest zamieniany na wiele map - każda posiadająca swój jeden filtr (kostkę) - w ten sposób powstaje nowy \"obrazek\" podpisany na rysunku *Convolutional layer 1*, na którym... ponawiamy operację! Używając nowego zestawu filtrów tworzymy *Convolutional layer 2*."
      ]
    },
    {
      "cell_type": "markdown",
      "metadata": {
        "id": "heCY57YdLLZx"
      },
      "source": [
        "![Ilustracja sieci splotowej w przypadku trójwymiarowym](https://github.com/Ag0r9/machine_learning_for_students/blob/master/img/mlst_1306.png?raw=1)\n",
        "\n",
        "Aurélien Géron \"Hands-On Machine Learning with Scikit-Learn, Keras, and TensorFlow\" O'Reilly Media 2017"
      ]
    },
    {
      "cell_type": "markdown",
      "metadata": {
        "id": "5dnXK_TTLLZ0"
      },
      "source": [
        "Warstwę splotową w PyTorch realizuje klasa [`torch.nn.Conv2d`](https://pytorch.org/docs/stable/nn.html?highlight=conv2d#torch.nn.Conv2d). Pierwsze trzy parametry jej konstruktora są obowiązkowe, to kolejno: liczba map na wejściu, liczba map na wyjściu, rozmiar jądra (jedna liczba jeżeli ma być kwadratowe albo para liczb jeżeli ma być prostokątem).\n",
        "\n",
        "Będziemy budowali krok po kroku tablicę `layers`, której będziemy umieszczali kolejne warstwy naszej sieci neuronowej.\n",
        "Rozpoczniemy od dodania warstwy splotowej.\n",
        "Obrazki MNIST są monochromatyczne, więc mamy tylko 1 kanał wejściowy.\n",
        "Przyjmimy, że na wyjściu będziemy mieli 5 map, każdą na bazie kwadratowego filtra o boku 3.\n",
        "Żeby nie zmniejszyć zbyt szybko obrazka dodamy po 1 pikselu paddingu z każdej strony - jak na rysunku powyżej."
      ]
    },
    {
      "cell_type": "code",
      "execution_count": 6,
      "metadata": {
        "id": "AqrIzFUhLLZ3"
      },
      "outputs": [],
      "source": [
        "layers = [\n",
        "    nn.Conv2d(1, 5, 3, padding=1)\n",
        "]"
      ]
    },
    {
      "cell_type": "markdown",
      "metadata": {
        "id": "fApATGv1LLZ5"
      },
      "source": [
        "### Nieliniowość\n",
        "\n",
        "Warstwa splotowa - podobnie jak warstwa liniowa (`nn.Linear`) - jest tylko sumą. Nie ma sensu bezpośrednie składanie kilku warstw splotowych jedna na drugą, potrzebna jest nieliniowość. Zastosujemy *leaky ReLU*, funkcję aktywacji przedstawioną na poniższym wykresie"
      ]
    },
    {
      "cell_type": "markdown",
      "metadata": {
        "id": "lijQABO6LLZ7"
      },
      "source": [
        "![Leaky ReLU](https://github.com/Ag0r9/machine_learning_for_students/blob/master/img/leaky_relu.png?raw=1)\n",
        "\n",
        "Aurélien Géron \"Hands-On Machine Learning with Scikit-Learn, Keras, and TensorFlow\" O'Reilly Media 2017"
      ]
    },
    {
      "cell_type": "code",
      "execution_count": 7,
      "metadata": {
        "id": "QtxcC5M_LLZ8"
      },
      "outputs": [],
      "source": [
        "layers.append(nn.LeakyReLU())"
      ]
    },
    {
      "cell_type": "markdown",
      "metadata": {
        "id": "eDaCgrboLLaA"
      },
      "source": [
        "### Łączenie\n",
        "\n",
        "Sieć splotowa pozwala uwydatnić pewne cechy w obrazie, na przykład na poniższym rysunku na mapie po lewej stronie uwydatnione zostały linie pionowe, a po prawej linie poziome. "
      ]
    },
    {
      "cell_type": "markdown",
      "metadata": {
        "id": "e5cv-kKmLLaB"
      },
      "source": [
        "![](https://github.com/Ag0r9/machine_learning_for_students/blob/master/img/mlst_1305.png?raw=1)\n",
        "\n",
        "Aurélien Géron \"Hands-On Machine Learning with Scikit-Learn, Keras, and TensorFlow\" O'Reilly Media 2017"
      ]
    },
    {
      "cell_type": "markdown",
      "metadata": {
        "id": "1iou3DxzLLaC"
      },
      "source": [
        "Z drugiej strony to uwydatnienie spowodowało, że trochę straciliśmy szczegóły i właściwie nie potrzebujemy już tak dużej rozdzielczości. Z pomocą przychodzi operacja łączenia (ang. *pooling*), która podobnie jak sieć splotowa przesuwa filtr przez obraz, ale ten filtr jest pozbawiony parametrów: służy albo do wybierania maksimum (ang. *max pooling*) albo do obliczania średniej arytmetycznej (ang. *average pooling*). Poniższy rysunek zgrubnie prezentuje ideę *max pooling* (kernel $2\\times 2$, stride 2, bez paddingu - stąd $\\times$ w ostatniej kolumnie). W przypadku operacji łączenia nie ma problemu z przejściem do przetwarzania obrazów kolorowych - każda mapa (kanał) analizowana jest oddzielnie, więc zawsze pozostajemy w dwóch wymiarach, wykonując tę operację."
      ]
    },
    {
      "cell_type": "markdown",
      "metadata": {
        "id": "fQeanLwkLLaC"
      },
      "source": [
        "![max pooling](https://github.com/Ag0r9/machine_learning_for_students/blob/master/img/mlst_1308.png?raw=1)\n",
        "\n",
        "Aurélien Géron \"Hands-On Machine Learning with Scikit-Learn, Keras, and TensorFlow\" O'Reilly Media 2017"
      ]
    },
    {
      "cell_type": "markdown",
      "metadata": {
        "id": "76euxSm1LLaD"
      },
      "source": [
        "Dodamy do naszej sieci neuronowej *max pooling*, realizowany za pomocą klasy `nn.MaxPool2d`, z jądrem rozmiaru $3\\times 3$ i uzupełnieniem o 1 piksel z każdej strony."
      ]
    },
    {
      "cell_type": "code",
      "execution_count": 8,
      "metadata": {
        "id": "p0xZUHH4LLaE"
      },
      "outputs": [],
      "source": [
        "layers.append(nn.MaxPool2d(3, padding=1))"
      ]
    },
    {
      "cell_type": "markdown",
      "metadata": {
        "id": "t_ByZHsuLLaH"
      },
      "source": [
        "### Zadanie 1\n",
        "\n",
        "Ile map i jakiego rozmiaru będzie na tym etapie przetwarzania, jeżeli wejście miało jedną mapę rozmiaru $28\\times 28$?"
      ]
    },
    {
      "cell_type": "markdown",
      "metadata": {
        "id": "6kCKxxtXLLaI"
      },
      "source": [
        "* **Liczba map**: 5\n",
        "* **Rozmiar każdej mapy**: 10x10"
      ]
    },
    {
      "cell_type": "markdown",
      "metadata": {
        "id": "C7Hj1zBeLLaJ"
      },
      "source": [
        "### Spłaszczanie\n",
        "\n",
        "Na tym etapie każdy obiekt przetwarzany przez naszą sieć neuronową jest trójwymiarowy, tj. składa się z pewnej liczby dwuwymiarowych map. Takiego wejścia nie możemy podać do warstwy liniowej! Wykorzystamy klasę `nn.Flatten`, żeby ułożyć piksele jeden za drugim w formie wektora."
      ]
    },
    {
      "cell_type": "code",
      "execution_count": 9,
      "metadata": {
        "id": "CT5n0nPPLLaK"
      },
      "outputs": [],
      "source": [
        "layers.append(nn.Flatten())"
      ]
    },
    {
      "cell_type": "markdown",
      "metadata": {
        "id": "280jN6idLLaK"
      },
      "source": [
        "### Zadanie 2: Warstwa liniowa\n",
        "\n",
        "Tak samo jak na poprzednich zajęciach wykorzystamy do klasyfikacji warstwę `nn.Linear`. Klasyfikujemy do 10 klas, więc musimy mieć 10 neuronów, ale ilu wejść potrzebujemy? Uzupełnij poprzedni kod na podstawie wyników zadania 1."
      ]
    },
    {
      "cell_type": "code",
      "execution_count": 10,
      "metadata": {
        "id": "1xJOOUgBLLaL"
      },
      "outputs": [],
      "source": [
        "layers.append(nn.Linear(5*10*10, 10))"
      ]
    },
    {
      "cell_type": "markdown",
      "metadata": {
        "id": "PhuqxfO5LLaM"
      },
      "source": [
        "### Faktyczna budowa sieci neuronowej\n",
        "\n",
        "Warstwy połączymy w jeden moduł wykorzystując klasę `nn.Sequential`, jako funkcję straty wykorzystamy entropię krzyżową, a do optymalizacji optymalizator Adam."
      ]
    },
    {
      "cell_type": "code",
      "execution_count": 11,
      "metadata": {
        "id": "LEHVKtwrLLaO"
      },
      "outputs": [],
      "source": [
        "model = nn.Sequential(*layers)\n",
        "\n",
        "cost = torch.nn.CrossEntropyLoss()\n",
        "opt = optim.Adam(model.parameters())"
      ]
    },
    {
      "cell_type": "code",
      "execution_count": 12,
      "metadata": {
        "id": "9RJgE0SyLLaQ",
        "outputId": "683a4b66-d84b-49af-aaed-b7cff3fb790a",
        "colab": {
          "base_uri": "https://localhost:8080/"
        }
      },
      "outputs": [
        {
          "output_type": "execute_result",
          "data": {
            "text/plain": [
              "Sequential(\n",
              "  (0): Conv2d(1, 5, kernel_size=(3, 3), stride=(1, 1), padding=(1, 1))\n",
              "  (1): LeakyReLU(negative_slope=0.01)\n",
              "  (2): MaxPool2d(kernel_size=3, stride=3, padding=1, dilation=1, ceil_mode=False)\n",
              "  (3): Flatten(start_dim=1, end_dim=-1)\n",
              "  (4): Linear(in_features=500, out_features=10, bias=True)\n",
              ")"
            ]
          },
          "metadata": {},
          "execution_count": 12
        }
      ],
      "source": [
        "model"
      ]
    },
    {
      "cell_type": "markdown",
      "metadata": {
        "id": "60fTp_s1LLaR"
      },
      "source": [
        "## Uczenie z wykorzystaniem wczesnego zatrzymania\n",
        "\n",
        "Wczesne zatrzymanie (ang. *early stopping*) polega na tym, że co określoną liczbę epok uczenia obliczamy miarę oceny (np. trafność klasyfikacji) na zbiorze walidującym. Jeżeli nastąpiła poprawa w stosunku do poprzedniego razu, to zapamiętujemy obecne wartości wag sieci neuronowej, jeżeli zaś przez kilka razy nie następuje poprawa, to przerywamy uczenie i przywracamy wagi ostatniego najlepszego modelu.\n",
        "\n",
        "Poniższy kawałek kodu oblicza trafność na zbiorze walidującym co epokę i przerywa uczenie jeżeli przez 5 kolejnych epok nie nastąpiła poprawa."
      ]
    },
    {
      "cell_type": "code",
      "execution_count": 13,
      "metadata": {
        "id": "5yHMUiDnLLaS",
        "outputId": "a80c0189-9139-415d-9c47-ffee3c500156",
        "colab": {
          "base_uri": "https://localhost:8080/"
        }
      },
      "outputs": [
        {
          "output_type": "stream",
          "name": "stdout",
          "text": [
            "New best epoch  0 acc tensor(0.8252)\n",
            "New best epoch  1 acc tensor(0.8727)\n",
            "New best epoch  2 acc tensor(0.8921)\n",
            "New best epoch  3 acc tensor(0.9027)\n",
            "New best epoch  4 acc tensor(0.9088)\n",
            "New best epoch  5 acc tensor(0.9137)\n",
            "New best epoch  6 acc tensor(0.9183)\n",
            "New best epoch  7 acc tensor(0.9202)\n",
            "New best epoch  8 acc tensor(0.9247)\n",
            "New best epoch  9 acc tensor(0.9281)\n",
            "New best epoch  10 acc tensor(0.9284)\n",
            "New best epoch  11 acc tensor(0.9316)\n",
            "New best epoch  12 acc tensor(0.9348)\n",
            "New best epoch  13 acc tensor(0.9367)\n",
            "New best epoch  14 acc tensor(0.9393)\n",
            "New best epoch  15 acc tensor(0.9409)\n",
            "New best epoch  16 acc tensor(0.9417)\n",
            "New best epoch  17 acc tensor(0.9439)\n",
            "New best epoch  18 acc tensor(0.9464)\n",
            "New best epoch  20 acc tensor(0.9476)\n",
            "New best epoch  21 acc tensor(0.9485)\n",
            "New best epoch  22 acc tensor(0.9513)\n",
            "New best epoch  24 acc tensor(0.9517)\n",
            "New best epoch  25 acc tensor(0.9518)\n",
            "New best epoch  26 acc tensor(0.9531)\n",
            "New best epoch  27 acc tensor(0.9537)\n",
            "New best epoch  28 acc tensor(0.9551)\n",
            "New best epoch  29 acc tensor(0.9553)\n",
            "New best epoch  30 acc tensor(0.9578)\n",
            "New best epoch  32 acc tensor(0.9582)\n",
            "New best epoch  33 acc tensor(0.9593)\n",
            "New best epoch  35 acc tensor(0.9594)\n",
            "New best epoch  36 acc tensor(0.9612)\n",
            "New best epoch  39 acc tensor(0.9613)\n",
            "New best epoch  40 acc tensor(0.9628)\n",
            "New best epoch  42 acc tensor(0.9632)\n",
            "New best epoch  43 acc tensor(0.9633)\n",
            "New best epoch  44 acc tensor(0.9638)\n",
            "New best epoch  45 acc tensor(0.9650)\n",
            "New best epoch  47 acc tensor(0.9655)\n",
            "New best epoch  48 acc tensor(0.9659)\n",
            "New best epoch  51 acc tensor(0.9663)\n",
            "New best epoch  53 acc tensor(0.9668)\n",
            "New best epoch  55 acc tensor(0.9672)\n",
            "New best epoch  56 acc tensor(0.9682)\n",
            "New best epoch  59 acc tensor(0.9689)\n",
            "New best epoch  61 acc tensor(0.9693)\n",
            "No improvement for 5 epochs\n"
          ]
        },
        {
          "output_type": "execute_result",
          "data": {
            "text/plain": [
              "<All keys matched successfully>"
            ]
          },
          "metadata": {},
          "execution_count": 13
        }
      ],
      "source": [
        "train_loss = []\n",
        "validation_acc = []\n",
        "best_model = None\n",
        "best_acc = None\n",
        "best_epoch = None\n",
        "max_epoch = 10000\n",
        "no_improvement = 5\n",
        "batch_size = 512\n",
        "\n",
        "for n_epoch in range(max_epoch):\n",
        "    model.train()\n",
        "    loader = data.DataLoader(mnist_train, batch_size=batch_size, shuffle=True, num_workers=1)\n",
        "    epoch_loss = []\n",
        "    for X_batch, y_batch in loader:\n",
        "        opt.zero_grad()\n",
        "        logits = model(X_batch)\n",
        "        loss = cost(logits, y_batch)\n",
        "        loss.backward()\n",
        "        opt.step()        \n",
        "        epoch_loss.append(loss.detach())\n",
        "    train_loss.append(torch.tensor(epoch_loss).mean())\n",
        "    model.eval()\n",
        "    loader = data.DataLoader(mnist_validation, batch_size=len(mnist_validation), shuffle=False)\n",
        "    X, y = next(iter(loader))\n",
        "    logits = model(X)\n",
        "    acc = compute_acc(logits, y).detach()\n",
        "    validation_acc.append(acc)\n",
        "    if best_acc is None or acc > best_acc:\n",
        "        print(\"New best epoch \", n_epoch, \"acc\", acc)\n",
        "        best_acc = acc\n",
        "        best_model = model.state_dict()\n",
        "        best_epoch = n_epoch\n",
        "    if best_epoch + no_improvement <= n_epoch:\n",
        "        print(\"No improvement for\", no_improvement, \"epochs\")\n",
        "        break\n",
        "        \n",
        "model.load_state_dict(best_model)"
      ]
    },
    {
      "cell_type": "markdown",
      "metadata": {
        "id": "PKcZBUqeLLaT"
      },
      "source": [
        "Przyjrzyj się poniższym wykresom"
      ]
    },
    {
      "cell_type": "code",
      "execution_count": 14,
      "metadata": {
        "id": "UKMBk0-LLLaT",
        "outputId": "f843ae3f-101b-422c-d069-6b3a84fee61d",
        "colab": {
          "base_uri": "https://localhost:8080/",
          "height": 809
        }
      },
      "outputs": [
        {
          "output_type": "display_data",
          "data": {
            "image/png": "[encoded data removed]",
            "text/plain": [
              "<Figure size 432x288 with 1 Axes>"
            ]
          },
          "metadata": {
            "needs_background": "light"
          }
        },
        {
          "output_type": "display_data",
          "data": {
            "image/png": "[encoded data removed]",
            "text/plain": [
              "<Figure size 432x288 with 1 Axes>"
            ]
          },
          "metadata": {
            "needs_background": "light"
          }
        },
        {
          "output_type": "display_data",
          "data": {
            "image/png": "[encoded data removed]",
            "text/plain": [
              "<Figure size 432x288 with 1 Axes>"
            ]
          },
          "metadata": {
            "needs_background": "light"
          }
        }
      ],
      "source": [
        "plt.title('Validation accuracy. Dot denotes best accuracy.')\n",
        "plt.plot(validation_acc, label='Validation accuracy')\n",
        "plt.plot(best_epoch, best_acc, 'bo', label='Best accuracy')\n",
        "plt.show()\n",
        "plt.title('Training loss')\n",
        "plt.plot(train_loss)\n",
        "plt.show()\n",
        "k = max(3*no_improvement, 0)\n",
        "plt.title('Last {} epochs'.format(k))\n",
        "plt.plot(validation_acc[-k:])\n",
        "plt.plot(best_epoch-(len(validation_acc)-k), best_acc, 'bo')\n",
        "plt.show()"
      ]
    },
    {
      "cell_type": "markdown",
      "metadata": {
        "id": "Hl4nwTTALLaV"
      },
      "source": [
        "### Zadanie 3\n",
        "Dlaczego wczesne zatrzymanie jest realizowane na zbiorze walidującym, a nie na zbiorze uczącym albo na zbiorze testowym?"
      ]
    },
    {
      "cell_type": "markdown",
      "metadata": {
        "id": "y14I8owyLLaZ"
      },
      "source": [
        "Wczesne zatrzymanie na zbiorze uczącym i testowym mogłoby doprowadzić do overfitu. "
      ]
    },
    {
      "cell_type": "markdown",
      "metadata": {
        "id": "Q1nEq6vNLLaZ"
      },
      "source": [
        "### Zadanie 4\n",
        "\n",
        "Oblicz trafność klasyfikacji na zbiorze walidującym i na zbiorze testowym. Czy uzyskane wartości się różnią? W którą stronę? Dlaczego tak może być?"
      ]
    },
    {
      "cell_type": "code",
      "execution_count": 15,
      "metadata": {
        "id": "rp5_O70sLLaq",
        "colab": {
          "base_uri": "https://localhost:8080/"
        },
        "outputId": "9ceeb7f2-c96d-443b-9945-d75051a7a09b"
      },
      "outputs": [
        {
          "output_type": "stream",
          "name": "stdout",
          "text": [
            "Trafnośc klasyfikacji na zbiorze walidującym 0.96875\n",
            "Trafnośc klasyfikacji na zbiorze testowym 0.974399983882904\n"
          ]
        }
      ],
      "source": [
        "# mnist_test, mnist_validation\n",
        "loader = data.DataLoader(mnist_validation, batch_size=len(mnist_validation), shuffle=False)\n",
        "X, y = next(iter(loader))\n",
        "logits = model(X)\n",
        "acc = compute_acc(logits, y).detach()\n",
        "print(f'Trafnośc klasyfikacji na zbiorze walidującym {acc}')\n",
        "loader = data.DataLoader(mnist_test, batch_size=len(mnist_test), shuffle=False)\n",
        "X, y = next(iter(loader))\n",
        "logits = model(X)\n",
        "acc = compute_acc(logits, y).detach()\n",
        "print(f'Trafnośc klasyfikacji na zbiorze testowym {acc}')"
      ]
    },
    {
      "cell_type": "markdown",
      "metadata": {
        "id": "Ov8grdUKLLar"
      },
      "source": [
        "Trafność klasyfikacji jest bardzo podobna w obu przypadkach. Trochę lepszy winik jest na zbiorze testowym"
      ]
    },
    {
      "cell_type": "markdown",
      "metadata": {
        "id": "uoDYAXfQLLas"
      },
      "source": [
        "## Zadanie do samodzielnego wykonania\n",
        "\n",
        "Zaimplementuj sieć o architekturze zbliżonej do [LeNet-5](http://yann.lecun.com/exdb/publis/pdf/lecun-01a.pdf), zgodnie z poniższym opisem:\n",
        "\n",
        "|Nr warstwy|Typ|Rozmiar wyjścia|Liczba filtrów|Rozmiar jądra (`kernel_size`)|Krok (`stride`)|Padding|Funkcja aktywacji|\n",
        "|----------|---|---------------|--------------|-----------------------|---------------|-------|-----------------|\n",
        "|1|splotowa|$28\\times 28$|6|$5\\times 5$|1|2|tanh|\n",
        "|2|avgerage pooling|$14\\times 14$|6|$2\\times 2$|2|0|tanh|\n",
        "|3|splotowa|$10\\times 10$|16|$5\\times 5$|1|0|tanh|\n",
        "|4|average pooling|$5\\times 5$|16|$2\\times 2$|2|0|tanh|\n",
        "|5|splotowa|$1\\times 1$|120|$5\\times 5$|1|0|tanh|\n",
        "|6|pełna|84|||||tanh|\n",
        "|7|pełna|10|||||brak|"
      ]
    },
    {
      "cell_type": "markdown",
      "metadata": {
        "id": "axl8PMtSLLat"
      },
      "source": [
        "Architektura w formie rysunku (z [oryginalnego artykułu](http://yann.lecun.com/exdb/publis/pdf/lecun-01a.pdf)):\n",
        "\n",
        "![LeNet5 architecture](https://github.com/Ag0r9/machine_learning_for_students/blob/master/img/lenet5.png?raw=1)"
      ]
    },
    {
      "cell_type": "markdown",
      "metadata": {
        "id": "BTfOv9KzLLav"
      },
      "source": [
        "## Zadania szczegółowe:\n",
        "\n",
        "1. Zbuduj sieć\n",
        "2. Ucz sieć wykorzystując early stopping (przez ocenę accuracy na zbiorze walidującym)\n",
        "3. Oceń jakość sieci na zbiorze testowym\n",
        "4. Wyświetl 10 źle zaklasyfikowanych przypadków ze zbioru testowego, razem z informacją o poprawnej etykiecie oraz etykiecie zaproponowanej przez model. Posłuż się funkcją `plt.imshow`"
      ]
    },
    {
      "cell_type": "markdown",
      "source": [
        "### 1. Zbuduj sieć"
      ],
      "metadata": {
        "id": "VumNOAhjJ_St"
      }
    },
    {
      "cell_type": "code",
      "execution_count": 22,
      "metadata": {
        "id": "1To62B8ELLaw"
      },
      "outputs": [],
      "source": [
        "my_layers = [\n",
        "    nn.Conv2d(in_channels=1, out_channels=6, kernel_size=(5, 5), padding=2),\n",
        "    nn.Tanh(),\n",
        "    nn.AvgPool2d(kernel_size=(2, 2), stride=2, padding=0),\n",
        "    nn.Tanh(),\n",
        "    nn.Conv2d(in_channels=6, out_channels=16, kernel_size=(5, 5), padding=0),\n",
        "    nn.Tanh(),\n",
        "    nn.AvgPool2d(kernel_size=(2, 2), stride=2, padding=0),\n",
        "    nn.Tanh(),\n",
        "    nn.Conv2d(in_channels=16, out_channels=120, kernel_size=(5, 5), padding=0),\n",
        "    nn.Tanh(),\n",
        "    nn.Flatten(),\n",
        "    nn.Linear(120, 84),\n",
        "    nn.Tanh(),\n",
        "    nn.Linear(84,10)\n",
        "]"
      ]
    },
    {
      "cell_type": "code",
      "source": [
        "model = nn.Sequential(*my_layers)\n",
        "\n",
        "cost = torch.nn.CrossEntropyLoss()\n",
        "opt = optim.Adam(model.parameters())"
      ],
      "metadata": {
        "id": "eKeshLPgRf0x"
      },
      "execution_count": 23,
      "outputs": []
    },
    {
      "cell_type": "code",
      "source": [
        "model"
      ],
      "metadata": {
        "colab": {
          "base_uri": "https://localhost:8080/"
        },
        "id": "seGEcPtC3JBt",
        "outputId": "0cbb4e7b-e527-4fb8-89c1-4cafdced04f0"
      },
      "execution_count": 24,
      "outputs": [
        {
          "output_type": "execute_result",
          "data": {
            "text/plain": [
              "Sequential(\n",
              "  (0): Conv2d(1, 6, kernel_size=(5, 5), stride=(1, 1), padding=(2, 2))\n",
              "  (1): Tanh()\n",
              "  (2): AvgPool2d(kernel_size=(2, 2), stride=2, padding=0)\n",
              "  (3): Tanh()\n",
              "  (4): Conv2d(6, 16, kernel_size=(5, 5), stride=(1, 1))\n",
              "  (5): Tanh()\n",
              "  (6): AvgPool2d(kernel_size=(2, 2), stride=2, padding=0)\n",
              "  (7): Tanh()\n",
              "  (8): Conv2d(16, 120, kernel_size=(5, 5), stride=(1, 1))\n",
              "  (9): Tanh()\n",
              "  (10): Flatten(start_dim=1, end_dim=-1)\n",
              "  (11): Linear(in_features=120, out_features=84, bias=True)\n",
              "  (12): Tanh()\n",
              "  (13): Linear(in_features=84, out_features=10, bias=True)\n",
              ")"
            ]
          },
          "metadata": {},
          "execution_count": 24
        }
      ]
    },
    {
      "cell_type": "markdown",
      "source": [
        "### 2. Ucz sieć wykorzystując early stopping (przez ocenę accuracy na zbiorze walidującym)"
      ],
      "metadata": {
        "id": "kV_azqPGKINz"
      }
    },
    {
      "cell_type": "markdown",
      "source": [
        ""
      ],
      "metadata": {
        "id": "vBWWi-rEKIKu"
      }
    },
    {
      "cell_type": "code",
      "execution_count": 25,
      "metadata": {
        "outputId": "67ddbf6b-483a-4741-f9e0-e4be24a74d24",
        "colab": {
          "base_uri": "https://localhost:8080/"
        },
        "id": "I6OG1FXfZqV-"
      },
      "outputs": [
        {
          "output_type": "stream",
          "name": "stdout",
          "text": [
            "New best epoch  0 acc tensor(0.8994)\n",
            "New best epoch  1 acc tensor(0.9362)\n",
            "New best epoch  2 acc tensor(0.9532)\n",
            "New best epoch  3 acc tensor(0.9635)\n",
            "New best epoch  4 acc tensor(0.9712)\n",
            "New best epoch  5 acc tensor(0.9740)\n",
            "New best epoch  6 acc tensor(0.9757)\n",
            "New best epoch  7 acc tensor(0.9769)\n",
            "New best epoch  8 acc tensor(0.9796)\n",
            "New best epoch  9 acc tensor(0.9827)\n",
            "New best epoch  10 acc tensor(0.9828)\n",
            "New best epoch  11 acc tensor(0.9840)\n",
            "New best epoch  12 acc tensor(0.9846)\n",
            "New best epoch  15 acc tensor(0.9856)\n",
            "New best epoch  16 acc tensor(0.9868)\n",
            "No improvement for 5 epochs\n"
          ]
        },
        {
          "output_type": "execute_result",
          "data": {
            "text/plain": [
              "<All keys matched successfully>"
            ]
          },
          "metadata": {},
          "execution_count": 25
        }
      ],
      "source": [
        "train_loss = []\n",
        "validation_acc = []\n",
        "best_model = None\n",
        "best_acc = None\n",
        "best_epoch = None\n",
        "max_epoch = 10000\n",
        "no_improvement = 5\n",
        "batch_size = 512\n",
        "\n",
        "for n_epoch in range(max_epoch):\n",
        "    model.train()\n",
        "    loader = data.DataLoader(mnist_train, batch_size=batch_size, shuffle=True, num_workers=1)\n",
        "    epoch_loss = []\n",
        "    for X_batch, y_batch in loader:\n",
        "        opt.zero_grad()\n",
        "        logits = model(X_batch)\n",
        "        loss = cost(logits, y_batch)\n",
        "        loss.backward()\n",
        "        opt.step()        \n",
        "        epoch_loss.append(loss.detach())\n",
        "    train_loss.append(torch.tensor(epoch_loss).mean())\n",
        "    model.eval()\n",
        "    loader = data.DataLoader(mnist_validation, batch_size=len(mnist_validation), shuffle=False)\n",
        "    X, y = next(iter(loader))\n",
        "    logits = model(X)\n",
        "    acc = compute_acc(logits, y).detach()\n",
        "    validation_acc.append(acc)\n",
        "    if best_acc is None or acc > best_acc:\n",
        "        print(\"New best epoch \", n_epoch, \"acc\", acc)\n",
        "        best_acc = acc\n",
        "        best_model = model.state_dict()\n",
        "        best_epoch = n_epoch\n",
        "    if best_epoch + no_improvement <= n_epoch:\n",
        "        print(\"No improvement for\", no_improvement, \"epochs\")\n",
        "        break\n",
        "        \n",
        "model.load_state_dict(best_model)"
      ]
    },
    {
      "cell_type": "code",
      "execution_count": 26,
      "metadata": {
        "outputId": "bb3e4414-136a-4c01-9952-d9fbfde47aca",
        "colab": {
          "base_uri": "https://localhost:8080/",
          "height": 809
        },
        "id": "FUpo4wl_ZqWI"
      },
      "outputs": [
        {
          "output_type": "display_data",
          "data": {
            "image/png": "[encoded data removed]",
            "text/plain": [
              "<Figure size 432x288 with 1 Axes>"
            ]
          },
          "metadata": {
            "needs_background": "light"
          }
        },
        {
          "output_type": "display_data",
          "data": {
            "image/png": "[encoded data removed]",
            "text/plain": [
              "<Figure size 432x288 with 1 Axes>"
            ]
          },
          "metadata": {
            "needs_background": "light"
          }
        },
        {
          "output_type": "display_data",
          "data": {
            "image/png": "[encoded data removed]",
            "text/plain": [
              "<Figure size 432x288 with 1 Axes>"
            ]
          },
          "metadata": {
            "needs_background": "light"
          }
        }
      ],
      "source": [
        "plt.title('Validation accuracy. Dot denotes best accuracy.')\n",
        "plt.plot(validation_acc, label='Validation accuracy')\n",
        "plt.plot(best_epoch, best_acc, 'bo', label='Best accuracy')\n",
        "plt.show()\n",
        "plt.title('Training loss')\n",
        "plt.plot(train_loss)\n",
        "plt.show()\n",
        "k = max(3*no_improvement, 0)\n",
        "plt.title('Last {} epochs'.format(k))\n",
        "plt.plot(validation_acc[-k:])\n",
        "plt.plot(best_epoch-(len(validation_acc)-k), best_acc, 'bo')\n",
        "plt.show()"
      ]
    },
    {
      "cell_type": "markdown",
      "source": [
        "### 3. Oceń jakość sieci na zbiorze testowym"
      ],
      "metadata": {
        "id": "Xem2P2PYKPnY"
      }
    },
    {
      "cell_type": "code",
      "source": [
        "loader = data.DataLoader(mnist_test, batch_size=len(mnist_test), shuffle=False)\n",
        "X, y = next(iter(loader))\n",
        "logits = model(X)\n",
        "acc = compute_acc(logits, y).detach()\n",
        "print(f'Trafnośc klasyfikacji na zbiorze testowym {acc}')"
      ],
      "metadata": {
        "colab": {
          "base_uri": "https://localhost:8080/"
        },
        "id": "rIh9lGq38xTC",
        "outputId": "9cc7bfe8-1541-485c-cfee-6ef3cc45351f"
      },
      "execution_count": 27,
      "outputs": [
        {
          "output_type": "stream",
          "name": "stdout",
          "text": [
            "Trafnośc klasyfikacji na zbiorze testowym 0.9876999855041504\n"
          ]
        }
      ]
    },
    {
      "cell_type": "markdown",
      "source": [
        "\n",
        "### 4. Wyświetl 10 źle zaklasyfikowanych przypadków ze zbioru testowego, razem z informacją o poprawnej etykiecie oraz etykiecie zaproponowanej przez model. "
      ],
      "metadata": {
        "id": "I9VhDL1MKVAx"
      }
    },
    {
      "cell_type": "code",
      "source": [
        "pred = logits.argmax(dim=1)\n",
        "results = (pred == y).type(torch.float)\n",
        "cf_matrix = confusion_matrix(y, pred)\n",
        "cf_matrix\n",
        "fails = np.array([pred[~(pred == y)].numpy(), y[~(pred == y)].numpy()]).T"
      ],
      "metadata": {
        "id": "2eAw66MY8zhN"
      },
      "execution_count": 56,
      "outputs": []
    },
    {
      "cell_type": "code",
      "source": [
        "fails_df=pd.DataFrame(fails)\n",
        "fails_df.groupby(fails_df.columns.tolist(),as_index=False).size().sort_values('size', ascending=False)"
      ],
      "metadata": {
        "colab": {
          "base_uri": "https://localhost:8080/",
          "height": 1000
        },
        "id": "L8muiCEcNXTY",
        "outputId": "05f63e79-65bc-4fb0-c26d-f3c365ee32e8"
      },
      "execution_count": 75,
      "outputs": [
        {
          "output_type": "execute_result",
          "data": {
            "text/html": [
              "\n",
              "  <div id=\"df-3f0fee4e-7e6f-45e6-a1c5-d0896d3f96a9\">\n",
              "    <div class=\"colab-df-container\">\n",
              "      <div>\n",
              "<style scoped>\n",
              "    .dataframe tbody tr th:only-of-type {\n",
              "        vertical-align: middle;\n",
              "    }\n",
              "\n",
              "    .dataframe tbody tr th {\n",
              "        vertical-align: top;\n",
              "    }\n",
              "\n",
              "    .dataframe thead th {\n",
              "        text-align: right;\n",
              "    }\n",
              "</style>\n",
              "<table border=\"1\" class=\"dataframe\">\n",
              "  <thead>\n",
              "    <tr style=\"text-align: right;\">\n",
              "      <th></th>\n",
              "      <th>0</th>\n",
              "      <th>1</th>\n",
              "      <th>size</th>\n",
              "    </tr>\n",
              "  </thead>\n",
              "  <tbody>\n",
              "    <tr>\n",
              "      <th>46</th>\n",
              "      <td>9</td>\n",
              "      <td>4</td>\n",
              "      <td>9</td>\n",
              "    </tr>\n",
              "    <tr>\n",
              "      <th>37</th>\n",
              "      <td>7</td>\n",
              "      <td>9</td>\n",
              "      <td>6</td>\n",
              "    </tr>\n",
              "    <tr>\n",
              "      <th>18</th>\n",
              "      <td>4</td>\n",
              "      <td>6</td>\n",
              "      <td>5</td>\n",
              "    </tr>\n",
              "    <tr>\n",
              "      <th>12</th>\n",
              "      <td>3</td>\n",
              "      <td>5</td>\n",
              "      <td>5</td>\n",
              "    </tr>\n",
              "    <tr>\n",
              "      <th>20</th>\n",
              "      <td>4</td>\n",
              "      <td>9</td>\n",
              "      <td>4</td>\n",
              "    </tr>\n",
              "    <tr>\n",
              "      <th>14</th>\n",
              "      <td>3</td>\n",
              "      <td>8</td>\n",
              "      <td>4</td>\n",
              "    </tr>\n",
              "    <tr>\n",
              "      <th>2</th>\n",
              "      <td>0</td>\n",
              "      <td>6</td>\n",
              "      <td>4</td>\n",
              "    </tr>\n",
              "    <tr>\n",
              "      <th>32</th>\n",
              "      <td>7</td>\n",
              "      <td>2</td>\n",
              "      <td>4</td>\n",
              "    </tr>\n",
              "    <tr>\n",
              "      <th>41</th>\n",
              "      <td>8</td>\n",
              "      <td>6</td>\n",
              "      <td>4</td>\n",
              "    </tr>\n",
              "    <tr>\n",
              "      <th>22</th>\n",
              "      <td>5</td>\n",
              "      <td>6</td>\n",
              "      <td>4</td>\n",
              "    </tr>\n",
              "    <tr>\n",
              "      <th>28</th>\n",
              "      <td>6</td>\n",
              "      <td>4</td>\n",
              "      <td>4</td>\n",
              "    </tr>\n",
              "    <tr>\n",
              "      <th>36</th>\n",
              "      <td>7</td>\n",
              "      <td>8</td>\n",
              "      <td>3</td>\n",
              "    </tr>\n",
              "    <tr>\n",
              "      <th>33</th>\n",
              "      <td>7</td>\n",
              "      <td>3</td>\n",
              "      <td>3</td>\n",
              "    </tr>\n",
              "    <tr>\n",
              "      <th>15</th>\n",
              "      <td>3</td>\n",
              "      <td>9</td>\n",
              "      <td>3</td>\n",
              "    </tr>\n",
              "    <tr>\n",
              "      <th>49</th>\n",
              "      <td>9</td>\n",
              "      <td>8</td>\n",
              "      <td>3</td>\n",
              "    </tr>\n",
              "    <tr>\n",
              "      <th>40</th>\n",
              "      <td>8</td>\n",
              "      <td>3</td>\n",
              "      <td>3</td>\n",
              "    </tr>\n",
              "    <tr>\n",
              "      <th>9</th>\n",
              "      <td>2</td>\n",
              "      <td>7</td>\n",
              "      <td>3</td>\n",
              "    </tr>\n",
              "    <tr>\n",
              "      <th>42</th>\n",
              "      <td>8</td>\n",
              "      <td>9</td>\n",
              "      <td>3</td>\n",
              "    </tr>\n",
              "    <tr>\n",
              "      <th>47</th>\n",
              "      <td>9</td>\n",
              "      <td>5</td>\n",
              "      <td>3</td>\n",
              "    </tr>\n",
              "    <tr>\n",
              "      <th>3</th>\n",
              "      <td>0</td>\n",
              "      <td>8</td>\n",
              "      <td>3</td>\n",
              "    </tr>\n",
              "    <tr>\n",
              "      <th>10</th>\n",
              "      <td>2</td>\n",
              "      <td>8</td>\n",
              "      <td>3</td>\n",
              "    </tr>\n",
              "    <tr>\n",
              "      <th>39</th>\n",
              "      <td>8</td>\n",
              "      <td>1</td>\n",
              "      <td>2</td>\n",
              "    </tr>\n",
              "    <tr>\n",
              "      <th>34</th>\n",
              "      <td>7</td>\n",
              "      <td>4</td>\n",
              "      <td>2</td>\n",
              "    </tr>\n",
              "    <tr>\n",
              "      <th>38</th>\n",
              "      <td>8</td>\n",
              "      <td>0</td>\n",
              "      <td>2</td>\n",
              "    </tr>\n",
              "    <tr>\n",
              "      <th>45</th>\n",
              "      <td>9</td>\n",
              "      <td>3</td>\n",
              "      <td>2</td>\n",
              "    </tr>\n",
              "    <tr>\n",
              "      <th>29</th>\n",
              "      <td>6</td>\n",
              "      <td>5</td>\n",
              "      <td>2</td>\n",
              "    </tr>\n",
              "    <tr>\n",
              "      <th>0</th>\n",
              "      <td>0</td>\n",
              "      <td>2</td>\n",
              "      <td>2</td>\n",
              "    </tr>\n",
              "    <tr>\n",
              "      <th>25</th>\n",
              "      <td>6</td>\n",
              "      <td>0</td>\n",
              "      <td>2</td>\n",
              "    </tr>\n",
              "    <tr>\n",
              "      <th>5</th>\n",
              "      <td>1</td>\n",
              "      <td>6</td>\n",
              "      <td>2</td>\n",
              "    </tr>\n",
              "    <tr>\n",
              "      <th>19</th>\n",
              "      <td>4</td>\n",
              "      <td>8</td>\n",
              "      <td>2</td>\n",
              "    </tr>\n",
              "    <tr>\n",
              "      <th>26</th>\n",
              "      <td>6</td>\n",
              "      <td>1</td>\n",
              "      <td>2</td>\n",
              "    </tr>\n",
              "    <tr>\n",
              "      <th>13</th>\n",
              "      <td>3</td>\n",
              "      <td>7</td>\n",
              "      <td>2</td>\n",
              "    </tr>\n",
              "    <tr>\n",
              "      <th>11</th>\n",
              "      <td>3</td>\n",
              "      <td>2</td>\n",
              "      <td>1</td>\n",
              "    </tr>\n",
              "    <tr>\n",
              "      <th>48</th>\n",
              "      <td>9</td>\n",
              "      <td>7</td>\n",
              "      <td>1</td>\n",
              "    </tr>\n",
              "    <tr>\n",
              "      <th>4</th>\n",
              "      <td>1</td>\n",
              "      <td>2</td>\n",
              "      <td>1</td>\n",
              "    </tr>\n",
              "    <tr>\n",
              "      <th>6</th>\n",
              "      <td>1</td>\n",
              "      <td>7</td>\n",
              "      <td>1</td>\n",
              "    </tr>\n",
              "    <tr>\n",
              "      <th>44</th>\n",
              "      <td>9</td>\n",
              "      <td>2</td>\n",
              "      <td>1</td>\n",
              "    </tr>\n",
              "    <tr>\n",
              "      <th>43</th>\n",
              "      <td>9</td>\n",
              "      <td>0</td>\n",
              "      <td>1</td>\n",
              "    </tr>\n",
              "    <tr>\n",
              "      <th>7</th>\n",
              "      <td>2</td>\n",
              "      <td>1</td>\n",
              "      <td>1</td>\n",
              "    </tr>\n",
              "    <tr>\n",
              "      <th>8</th>\n",
              "      <td>2</td>\n",
              "      <td>3</td>\n",
              "      <td>1</td>\n",
              "    </tr>\n",
              "    <tr>\n",
              "      <th>27</th>\n",
              "      <td>6</td>\n",
              "      <td>2</td>\n",
              "      <td>1</td>\n",
              "    </tr>\n",
              "    <tr>\n",
              "      <th>17</th>\n",
              "      <td>4</td>\n",
              "      <td>5</td>\n",
              "      <td>1</td>\n",
              "    </tr>\n",
              "    <tr>\n",
              "      <th>35</th>\n",
              "      <td>7</td>\n",
              "      <td>5</td>\n",
              "      <td>1</td>\n",
              "    </tr>\n",
              "    <tr>\n",
              "      <th>21</th>\n",
              "      <td>5</td>\n",
              "      <td>1</td>\n",
              "      <td>1</td>\n",
              "    </tr>\n",
              "    <tr>\n",
              "      <th>23</th>\n",
              "      <td>5</td>\n",
              "      <td>8</td>\n",
              "      <td>1</td>\n",
              "    </tr>\n",
              "    <tr>\n",
              "      <th>24</th>\n",
              "      <td>5</td>\n",
              "      <td>9</td>\n",
              "      <td>1</td>\n",
              "    </tr>\n",
              "    <tr>\n",
              "      <th>31</th>\n",
              "      <td>7</td>\n",
              "      <td>0</td>\n",
              "      <td>1</td>\n",
              "    </tr>\n",
              "    <tr>\n",
              "      <th>30</th>\n",
              "      <td>6</td>\n",
              "      <td>8</td>\n",
              "      <td>1</td>\n",
              "    </tr>\n",
              "    <tr>\n",
              "      <th>1</th>\n",
              "      <td>0</td>\n",
              "      <td>5</td>\n",
              "      <td>1</td>\n",
              "    </tr>\n",
              "    <tr>\n",
              "      <th>16</th>\n",
              "      <td>4</td>\n",
              "      <td>2</td>\n",
              "      <td>1</td>\n",
              "    </tr>\n",
              "  </tbody>\n",
              "</table>\n",
              "</div>\n",
              "      <button class=\"colab-df-convert\" onclick=\"convertToInteractive('df-3f0fee4e-7e6f-45e6-a1c5-d0896d3f96a9')\"\n",
              "              title=\"Convert this dataframe to an interactive table.\"\n",
              "              style=\"display:none;\">\n",
              "        \n",
              "  <svg xmlns=\"http://www.w3.org/2000/svg\" height=\"24px\"viewBox=\"0 0 24 24\"\n",
              "       width=\"24px\">\n",
              "    <path d=\"M0 0h24v24H0V0z\" fill=\"none\"/>\n",
              "    <path d=\"M18.56 5.44l.94 2.06.94-2.06 2.06-.94-2.06-.94-.94-2.06-.94 2.06-2.06.94zm-11 1L8.5 8.5l.94-2.06 2.06-.94-2.06-.94L8.5 2.5l-.94 2.06-2.06.94zm10 10l.94 2.06.94-2.06 2.06-.94-2.06-.94-.94-2.06-.94 2.06-2.06.94z\"/><path d=\"M17.41 7.96l-1.37-1.37c-.4-.4-.92-.59-1.43-.59-.52 0-1.04.2-1.43.59L10.3 9.45l-7.72 7.72c-.78.78-.78 2.05 0 2.83L4 21.41c.39.39.9.59 1.41.59.51 0 1.02-.2 1.41-.59l7.78-7.78 2.81-2.81c.8-.78.8-2.07 0-2.86zM5.41 20L4 18.59l7.72-7.72 1.47 1.35L5.41 20z\"/>\n",
              "  </svg>\n",
              "      </button>\n",
              "      \n",
              "  <style>\n",
              "    .colab-df-container {\n",
              "      display:flex;\n",
              "      flex-wrap:wrap;\n",
              "      gap: 12px;\n",
              "    }\n",
              "\n",
              "    .colab-df-convert {\n",
              "      background-color: #E8F0FE;\n",
              "      border: none;\n",
              "      border-radius: 50%;\n",
              "      cursor: pointer;\n",
              "      display: none;\n",
              "      fill: #1967D2;\n",
              "      height: 32px;\n",
              "      padding: 0 0 0 0;\n",
              "      width: 32px;\n",
              "    }\n",
              "\n",
              "    .colab-df-convert:hover {\n",
              "      background-color: #E2EBFA;\n",
              "      box-shadow: 0px 1px 2px rgba(60, 64, 67, 0.3), 0px 1px 3px 1px rgba(60, 64, 67, 0.15);\n",
              "      fill: #174EA6;\n",
              "    }\n",
              "\n",
              "    [theme=dark] .colab-df-convert {\n",
              "      background-color: #3B4455;\n",
              "      fill: #D2E3FC;\n",
              "    }\n",
              "\n",
              "    [theme=dark] .colab-df-convert:hover {\n",
              "      background-color: #434B5C;\n",
              "      box-shadow: 0px 1px 3px 1px rgba(0, 0, 0, 0.15);\n",
              "      filter: drop-shadow(0px 1px 2px rgba(0, 0, 0, 0.3));\n",
              "      fill: #FFFFFF;\n",
              "    }\n",
              "  </style>\n",
              "\n",
              "      <script>\n",
              "        const buttonEl =\n",
              "          document.querySelector('#df-3f0fee4e-7e6f-45e6-a1c5-d0896d3f96a9 button.colab-df-convert');\n",
              "        buttonEl.style.display =\n",
              "          google.colab.kernel.accessAllowed ? 'block' : 'none';\n",
              "\n",
              "        async function convertToInteractive(key) {\n",
              "          const element = document.querySelector('#df-3f0fee4e-7e6f-45e6-a1c5-d0896d3f96a9');\n",
              "          const dataTable =\n",
              "            await google.colab.kernel.invokeFunction('convertToInteractive',\n",
              "                                                     [key], {});\n",
              "          if (!dataTable) return;\n",
              "\n",
              "          const docLinkHtml = 'Like what you see? Visit the ' +\n",
              "            '<a target=\"_blank\" href=https://colab.research.google.com/notebooks/data_table.ipynb>data table notebook</a>'\n",
              "            + ' to learn more about interactive tables.';\n",
              "          element.innerHTML = '';\n",
              "          dataTable['output_type'] = 'display_data';\n",
              "          await google.colab.output.renderOutput(dataTable, element);\n",
              "          const docLink = document.createElement('div');\n",
              "          docLink.innerHTML = docLinkHtml;\n",
              "          element.appendChild(docLink);\n",
              "        }\n",
              "      </script>\n",
              "    </div>\n",
              "  </div>\n",
              "  "
            ],
            "text/plain": [
              "    0  1  size\n",
              "46  9  4     9\n",
              "37  7  9     6\n",
              "18  4  6     5\n",
              "12  3  5     5\n",
              "20  4  9     4\n",
              "14  3  8     4\n",
              "2   0  6     4\n",
              "32  7  2     4\n",
              "41  8  6     4\n",
              "22  5  6     4\n",
              "28  6  4     4\n",
              "36  7  8     3\n",
              "33  7  3     3\n",
              "15  3  9     3\n",
              "49  9  8     3\n",
              "40  8  3     3\n",
              "9   2  7     3\n",
              "42  8  9     3\n",
              "47  9  5     3\n",
              "3   0  8     3\n",
              "10  2  8     3\n",
              "39  8  1     2\n",
              "34  7  4     2\n",
              "38  8  0     2\n",
              "45  9  3     2\n",
              "29  6  5     2\n",
              "0   0  2     2\n",
              "25  6  0     2\n",
              "5   1  6     2\n",
              "19  4  8     2\n",
              "26  6  1     2\n",
              "13  3  7     2\n",
              "11  3  2     1\n",
              "48  9  7     1\n",
              "4   1  2     1\n",
              "6   1  7     1\n",
              "44  9  2     1\n",
              "43  9  0     1\n",
              "7   2  1     1\n",
              "8   2  3     1\n",
              "27  6  2     1\n",
              "17  4  5     1\n",
              "35  7  5     1\n",
              "21  5  1     1\n",
              "23  5  8     1\n",
              "24  5  9     1\n",
              "31  7  0     1\n",
              "30  6  8     1\n",
              "1   0  5     1\n",
              "16  4  2     1"
            ]
          },
          "metadata": {},
          "execution_count": 75
        }
      ]
    },
    {
      "cell_type": "code",
      "source": [
        "cf_matrix"
      ],
      "metadata": {
        "colab": {
          "base_uri": "https://localhost:8080/"
        },
        "id": "1lPMLp-rNXP-",
        "outputId": "f5c3fa3d-d609-4aa7-f37f-21bc37357908"
      },
      "execution_count": 48,
      "outputs": [
        {
          "output_type": "execute_result",
          "data": {
            "text/plain": [
              "array([[ 974,    0,    0,    0,    0,    0,    2,    1,    2,    1],\n",
              "       [   0, 1129,    1,    0,    0,    1,    2,    0,    2,    0],\n",
              "       [   2,    1, 1021,    1,    1,    0,    1,    4,    0,    1],\n",
              "       [   0,    0,    1, 1001,    0,    0,    0,    3,    3,    2],\n",
              "       [   0,    0,    0,    0,  967,    0,    4,    2,    0,    9],\n",
              "       [   1,    0,    0,    5,    1,  879,    2,    1,    0,    3],\n",
              "       [   4,    2,    0,    0,    5,    4,  939,    0,    4,    0],\n",
              "       [   0,    1,    3,    2,    0,    0,    0, 1021,    0,    1],\n",
              "       [   3,    0,    3,    4,    2,    1,    1,    3,  954,    3],\n",
              "       [   0,    0,    0,    3,    4,    1,    0,    6,    3,  992]])"
            ]
          },
          "metadata": {},
          "execution_count": 48
        }
      ]
    }
  ],
  "metadata": {
    "kernelspec": {
      "display_name": "Python 3",
      "language": "python",
      "name": "python3"
    },
    "language_info": {
      "codemirror_mode": {
        "name": "ipython",
        "version": 3
      },
      "file_extension": ".py",
      "mimetype": "text/x-python",
      "name": "python",
      "nbconvert_exporter": "python",
      "pygments_lexer": "ipython3",
      "version": "3.7.3"
    },
    "colab": {
      "name": "Kopia notatnika lab4.ipynb",
      "provenance": [],
      "collapsed_sections": []
    }
  },
  "nbformat": 4,
  "nbformat_minor": 0
}